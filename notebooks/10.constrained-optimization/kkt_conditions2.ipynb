{
 "cells": [
  {
   "cell_type": "markdown",
   "metadata": {},
   "source": [
    "##  Min $2x^2 + 2xy + y^2-10x-10y$ \n",
    "subject to $x^2 + y^2 ≤ 5$ \n",
    "\n",
    "$3x+y≤ 6$"
   ]
  },
  {
   "cell_type": "code",
   "execution_count": 23,
   "metadata": {},
   "outputs": [
    {
     "data": {
      "application/vnd.jupyter.widget-view+json": {
       "model_id": "19a9c00de22b4be2965a500b0e5c62c4",
       "version_major": 2,
       "version_minor": 0
      },
      "text/plain": [
       "VBox(children=(Figure(camera=PerspectiveCamera(fov=46.0, position=(0.0, 0.0, 2.0), quaternion=(0.0, 0.0, 0.0, …"
      ]
     },
     "metadata": {},
     "output_type": "display_data"
    }
   ],
   "source": [
    "import numpy as np\n",
    "import ipyvolume.pylab as plt3d\n",
    "\n",
    "X = np.linspace(-5, 5, 100)\n",
    "Y = np.linspace(-5, 5, 100)\n",
    "\n",
    "X, Y = np.meshgrid(X, Y)\n",
    "Z = 2 * X**2 + 2 * X * Y + Y**2 - 10 * X - 10 * Y\n",
    "H1 = -X**2 - Y**2 + 5\n",
    "H2 = -3 * X - Y + 6\n",
    "\n",
    "plt3d.figure(width=600, height=600)\n",
    "plt3d.plot_surface(X, Z, Y, color='blue')\n",
    "plt3d.plot_wireframe(X, H1, Y, color='yellow')\n",
    "plt3d.plot_wireframe(X, H2, Y, color='green')\n",
    "plt3d.ylabel(\"z\")\n",
    "plt3d.zlabel(\"y\")\n",
    "plt3d.show()"
   ]
  },
  {
   "cell_type": "markdown",
   "metadata": {},
   "source": [
    "## KKT Conditions"
   ]
  },
  {
   "cell_type": "code",
   "execution_count": 3,
   "metadata": {},
   "outputs": [],
   "source": [
    "import sympy\n",
    "sympy.init_printing()\n",
    "\n",
    "x, y = sympy.symbols(\"x, y\", real=True)\n",
    "f = 2 * x**2 + 2 * x * y + y**2 - 10 * x - 10 * y\n",
    "h1 = -x**2 - y**2 + 5\n",
    "h2 = -3 * x - y + 6"
   ]
  },
  {
   "cell_type": "markdown",
   "metadata": {},
   "source": [
    "### 1.stationarity"
   ]
  },
  {
   "cell_type": "code",
   "execution_count": 4,
   "metadata": {},
   "outputs": [
    {
     "data": {
      "text/latex": [
       "$$\\left[\\begin{matrix}2 \\mu_{1} x + 3 \\mu_{2} + 4 x + 2 y - 10\\\\2 \\mu_{1} y + \\mu_{2} + 2 x + 2 y - 10\\end{matrix}\\right]$$"
      ],
      "text/plain": [
       "⎡2⋅μ₁⋅x + 3⋅μ₂ + 4⋅x + 2⋅y - 10⎤\n",
       "⎢                              ⎥\n",
       "⎣ 2⋅μ₁⋅y + μ₂ + 2⋅x + 2⋅y - 10 ⎦"
      ]
     },
     "execution_count": 4,
     "metadata": {},
     "output_type": "execute_result"
    }
   ],
   "source": [
    "f_grad = [f.diff(i) for i in (x, y)]\n",
    "f_grad = sympy.Matrix(f_grad)\n",
    "\n",
    "mu1, mu2 = sympy.symbols(\"mu1, mu2\", real=True)\n",
    "mu = sympy.Matrix([mu1, mu2])\n",
    "H = sympy.Matrix([h1, h2])\n",
    "H_grad = [H.diff(i) for i in (x, y)]\n",
    "H_grad = sympy.Matrix(H_grad).reshape(2, 2).T\n",
    "\n",
    "stat_cond = f_grad - sympy.Matrix(mu.T * H_grad).reshape(2, 1)\n",
    "stat_cond"
   ]
  },
  {
   "cell_type": "markdown",
   "metadata": {},
   "source": [
    "### 2.complementary slackness"
   ]
  },
  {
   "cell_type": "code",
   "execution_count": 5,
   "metadata": {},
   "outputs": [
    {
     "data": {
      "text/latex": [
       "$$\\left[\\begin{matrix}\\mu_{1} \\left(- x^{2} - y^{2} + 5\\right)\\\\\\mu_{2} \\left(- 3 x - y + 6\\right)\\end{matrix}\\right]$$"
      ],
      "text/plain": [
       "⎡   ⎛   2    2    ⎞⎤\n",
       "⎢μ₁⋅⎝- x  - y  + 5⎠⎥\n",
       "⎢                  ⎥\n",
       "⎣μ₂⋅(-3⋅x - y + 6) ⎦"
      ]
     },
     "execution_count": 5,
     "metadata": {},
     "output_type": "execute_result"
    }
   ],
   "source": [
    "slack_cond = sympy.Matrix([mu1 * h1, mu2 * h2])\n",
    "slack_cond"
   ]
  },
  {
   "cell_type": "markdown",
   "metadata": {},
   "source": [
    "### 3.primal feasibility"
   ]
  },
  {
   "cell_type": "code",
   "execution_count": 6,
   "metadata": {},
   "outputs": [
    {
     "data": {
      "text/latex": [
       "$$\\left[\\begin{matrix}- x^{2} - y^{2} + 5 \\geq 0\\\\- 3 x - y + 6 \\geq 0\\end{matrix}\\right]$$"
      ],
      "text/plain": [
       "⎡   2    2        ⎤\n",
       "⎢- x  - y  + 5 ≥ 0⎥\n",
       "⎢                 ⎥\n",
       "⎣-3⋅x - y + 6 ≥ 0 ⎦"
      ]
     },
     "execution_count": 6,
     "metadata": {},
     "output_type": "execute_result"
    }
   ],
   "source": [
    "prim_h1 = sympy.simplify(h1>=0)\n",
    "prim_h2 = sympy.simplify(h2>=0)\n",
    "prim_cond = sympy.Matrix([prim_h1, prim_h2])\n",
    "prim_cond"
   ]
  },
  {
   "cell_type": "markdown",
   "metadata": {},
   "source": [
    "### 4.dual feasibility"
   ]
  },
  {
   "cell_type": "code",
   "execution_count": 7,
   "metadata": {},
   "outputs": [
    {
     "data": {
      "text/latex": [
       "$$\\left[\\begin{matrix}\\mu_{1} \\geq 0\\\\\\mu_{2} \\geq 0\\end{matrix}\\right]$$"
      ],
      "text/plain": [
       "⎡μ₁ ≥ 0⎤\n",
       "⎢      ⎥\n",
       "⎣μ₂ ≥ 0⎦"
      ]
     },
     "execution_count": 7,
     "metadata": {},
     "output_type": "execute_result"
    }
   ],
   "source": [
    "dual_mu = sympy.simplify([mu1>=0, mu2>=0])\n",
    "dual_mu = sympy.Matrix(dual_mu)\n",
    "dual_mu"
   ]
  },
  {
   "cell_type": "markdown",
   "metadata": {},
   "source": [
    "### 5. Optimality"
   ]
  },
  {
   "cell_type": "code",
   "execution_count": 8,
   "metadata": {},
   "outputs": [
    {
     "data": {
      "text/latex": [
       "$$\\left[\\begin{matrix}2 \\mu_{1} x + 3 \\mu_{2} + 4 x + 2 y - 10\\\\2 \\mu_{1} y + \\mu_{2} + 2 x + 2 y - 10\\\\\\mu_{1} \\left(- x^{2} - y^{2} + 5\\right)\\\\\\mu_{2} \\left(- 3 x - y + 6\\right)\\\\- x^{2} - y^{2} + 5 \\geq 0\\\\- 3 x - y + 6 \\geq 0\\\\\\mu_{1} \\geq 0\\\\\\mu_{2} \\geq 0\\end{matrix}\\right]$$"
      ],
      "text/plain": [
       "⎡2⋅μ₁⋅x + 3⋅μ₂ + 4⋅x + 2⋅y - 10⎤\n",
       "⎢                              ⎥\n",
       "⎢ 2⋅μ₁⋅y + μ₂ + 2⋅x + 2⋅y - 10 ⎥\n",
       "⎢                              ⎥\n",
       "⎢         ⎛   2    2    ⎞      ⎥\n",
       "⎢      μ₁⋅⎝- x  - y  + 5⎠      ⎥\n",
       "⎢                              ⎥\n",
       "⎢      μ₂⋅(-3⋅x - y + 6)       ⎥\n",
       "⎢                              ⎥\n",
       "⎢         2    2               ⎥\n",
       "⎢      - x  - y  + 5 ≥ 0       ⎥\n",
       "⎢                              ⎥\n",
       "⎢       -3⋅x - y + 6 ≥ 0       ⎥\n",
       "⎢                              ⎥\n",
       "⎢            μ₁ ≥ 0            ⎥\n",
       "⎢                              ⎥\n",
       "⎣            μ₂ ≥ 0            ⎦"
      ]
     },
     "execution_count": 8,
     "metadata": {},
     "output_type": "execute_result"
    }
   ],
   "source": [
    "optimal_cond = sympy.Matrix([stat_cond, slack_cond, prim_cond, dual_mu])\n",
    "optimal_cond"
   ]
  },
  {
   "cell_type": "code",
   "execution_count": 9,
   "metadata": {},
   "outputs": [
    {
     "data": {
      "text/latex": [
       "$$\\left[\\begin{matrix}2 \\mu_{1} x + 3 \\mu_{2} + 4 x + 2 y - 10\\\\2 \\mu_{1} y + \\mu_{2} + 2 x + 2 y - 10\\\\\\mu_{1} \\left(- x^{2} - y^{2} + 5\\right)\\\\\\mu_{2} \\left(- 3 x - y + 6\\right)\\end{matrix}\\right]$$"
      ],
      "text/plain": [
       "⎡2⋅μ₁⋅x + 3⋅μ₂ + 4⋅x + 2⋅y - 10⎤\n",
       "⎢                              ⎥\n",
       "⎢ 2⋅μ₁⋅y + μ₂ + 2⋅x + 2⋅y - 10 ⎥\n",
       "⎢                              ⎥\n",
       "⎢         ⎛   2    2    ⎞      ⎥\n",
       "⎢      μ₁⋅⎝- x  - y  + 5⎠      ⎥\n",
       "⎢                              ⎥\n",
       "⎣      μ₂⋅(-3⋅x - y + 6)       ⎦"
      ]
     },
     "execution_count": 9,
     "metadata": {},
     "output_type": "execute_result"
    }
   ],
   "source": [
    "optimal_equ = sympy.Matrix([stat_cond, slack_cond])\n",
    "optimal_equ"
   ]
  },
  {
   "cell_type": "code",
   "execution_count": 31,
   "metadata": {},
   "outputs": [
    {
     "data": {
      "image/png": "[encoded data removed]",
      "text/latex": [
       "$$\\left [ \\left [ 0, \\quad 5.0, \\quad 0\\right ], \\quad \\left [ 1.0, \\quad 2.0, \\quad 1.0\\right ], \\quad \\left [ -1.72457672763185, \\quad -1.42331834475307, \\quad -5.72457672763185\\right ], \\quad \\left [ 3.36228836381592 - 0.540430833869287 i, \\quad 0.711659172376536 + 2.55330694059351 i, \\quad -0.637711636184076 - 0.540430833869287 i\\right ], \\quad \\left [ 3.36228836381592 + 0.540430833869287 i, \\quad 0.711659172376536 - 2.55330694059351 i, \\quad -0.637711636184076 + 0.540430833869287 i\\right ]\\right ]$$"
      ],
      "text/plain": [
       "[[0, 5.0, 0], [1.0, 2.0, 1.0], [-1.72457672763185, -1.42331834475307, -5.72457\n",
       "672763185], [3.36228836381592 - 0.540430833869287⋅ⅈ, 0.711659172376536 + 2.553\n",
       "30694059351⋅ⅈ, -0.637711636184076 - 0.540430833869287⋅ⅈ], [3.36228836381592 + \n",
       "0.540430833869287⋅ⅈ, 0.711659172376536 - 2.55330694059351⋅ⅈ, -0.63771163618407\n",
       "6 + 0.540430833869287⋅ⅈ]]"
      ]
     },
     "execution_count": 31,
     "metadata": {},
     "output_type": "execute_result"
    }
   ],
   "source": [
    "roots = sympy.solve(optimal_equ.subs(mu2, 0), (x, y, mu1), real=True)\n",
    "roots_float = []\n",
    "for root in roots:\n",
    "    t = []\n",
    "    for v in root:\n",
    "        t.append(v.evalf())\n",
    "    roots_float.append(t)\n",
    "    \n",
    "roots_float"
   ]
  },
  {
   "cell_type": "markdown",
   "metadata": {},
   "source": [
    "### 6. Checking"
   ]
  },
  {
   "cell_type": "code",
   "execution_count": 32,
   "metadata": {},
   "outputs": [
    {
     "data": {
      "image/png": "[encoded data removed]",
      "text/latex": [
       "$$\\left [ \\left [ 0, \\quad 5.0, \\quad 0\\right ], \\quad \\left [ 1.0, \\quad 2.0, \\quad 1.0\\right ], \\quad \\left [ -1.72457672763185, \\quad -1.42331834475307, \\quad -5.72457672763185\\right ]\\right ]$$"
      ],
      "text/plain": [
       "[[0, 5.0, 0], [1.0, 2.0, 1.0], [-1.72457672763185, -1.42331834475307, -5.72457\n",
       "672763185]]"
      ]
     },
     "execution_count": 32,
     "metadata": {},
     "output_type": "execute_result"
    }
   ],
   "source": [
    "real_roots = roots_float.copy()\n",
    "for i in range(len(roots_float)):\n",
    "    if \"I\" in str(roots_float[i]):\n",
    "        real_roots.remove(roots_float[i])\n",
    "        \n",
    "real_roots"
   ]
  },
  {
   "cell_type": "code",
   "execution_count": 33,
   "metadata": {},
   "outputs": [
    {
     "data": {
      "image/png": "[encoded data removed]",
      "text/latex": [
       "$$\\mathrm{False}$$"
      ],
      "text/plain": [
       "False"
      ]
     },
     "execution_count": 33,
     "metadata": {},
     "output_type": "execute_result"
    }
   ],
   "source": [
    "prim_h1.subs({x: real_roots[0][0], y: real_roots[0][1]})"
   ]
  },
  {
   "cell_type": "code",
   "execution_count": 34,
   "metadata": {},
   "outputs": [
    {
     "data": {
      "text/latex": [
       "$$\\left[\\begin{matrix}\\mathrm{False}\\\\\\mathrm{True}\\end{matrix}\\right]$$"
      ],
      "text/plain": [
       "⎡False⎤\n",
       "⎢     ⎥\n",
       "⎣True ⎦"
      ]
     },
     "execution_count": 34,
     "metadata": {},
     "output_type": "execute_result"
    }
   ],
   "source": [
    "dual_mu.subs({mu1: real_roots[2][2], mu2: 0})"
   ]
  },
  {
   "cell_type": "code",
   "execution_count": 35,
   "metadata": {},
   "outputs": [
    {
     "name": "stdout",
     "output_type": "stream",
     "text": [
      "The minimum: -20\n",
      "x=1.00, y=2.00, mu1=1.00, mu2=0.00\n"
     ]
    }
   ],
   "source": [
    "final_root = real_roots[1]\n",
    "f_min = f.subs({x: 1, y: 2})\n",
    "print(\"The minimum: {}\".format(f_min))\n",
    "print(\"x={:.2f}, y={:.2f}, mu1={:.2f}, mu2={:.2f}\".format(final_root[0], \n",
    "                                                          final_root[1], \n",
    "                                                          final_root[2], \n",
    "                                                          0))"
   ]
  },
  {
   "cell_type": "markdown",
   "metadata": {},
   "source": [
    "### Visualing the minimal value"
   ]
  },
  {
   "cell_type": "code",
   "execution_count": 36,
   "metadata": {},
   "outputs": [
    {
     "data": {
      "application/vnd.jupyter.widget-view+json": {
       "model_id": "f48cb6eaf28542b7a085435e2dfa40e2",
       "version_major": 2,
       "version_minor": 0
      },
      "text/plain": [
       "VBox(children=(Figure(camera=PerspectiveCamera(fov=46.0, position=(0.0, 0.0, 2.0), quaternion=(0.0, 0.0, 0.0, …"
      ]
     },
     "metadata": {},
     "output_type": "display_data"
    }
   ],
   "source": [
    "final_root1 = np.array(final_root).astype(float)\n",
    "\n",
    "plt3d.figure(width=600, height=600)\n",
    "plt3d.plot_surface(X, Z, Y, color='blue')\n",
    "plt3d.plot_wireframe(X, H1, Y, color='yellow') # h1: -X**2 - Y**2 + 5 >= 0\n",
    "plt3d.plot_wireframe(X, H2, Y, color='green')  # h2: -3 * X - Y + 6 >= 0\n",
    "plt3d.scatter(np.array([final_root1[0]]), np.array([float(f_min)]), \n",
    "              np.array([final_root1[1]]), size=5, marker=\"diamond\", color=\"red\")\n",
    "plt3d.ylabel(\"z\")\n",
    "plt3d.zlabel(\"y\")\n",
    "plt3d.show()"
   ]
  },
  {
   "cell_type": "markdown",
   "metadata": {},
   "source": [
    "### Using `Scipy`"
   ]
  },
  {
   "cell_type": "code",
   "execution_count": 37,
   "metadata": {},
   "outputs": [],
   "source": [
    "from scipy import optimize"
   ]
  },
  {
   "cell_type": "code",
   "execution_count": 38,
   "metadata": {},
   "outputs": [],
   "source": [
    "def f0(X):\n",
    "    #2 * X**2 + 2 * X * Y + Y**2 - 10 * X - 10 * Y\n",
    "    return 2 * X[0]**2 + 2 * X[0] * X[1] + X[1]**2 - 10 * X[0] - 10 * X[1] "
   ]
  },
  {
   "cell_type": "code",
   "execution_count": 39,
   "metadata": {},
   "outputs": [],
   "source": [
    "def g1(X):\n",
    "    #H1 = -X**2 - Y**2 + 5\n",
    "    #H2 = -3 * X - Y + 6\n",
    "    return -X[0]**2 - X[1]**2 + 5"
   ]
  },
  {
   "cell_type": "code",
   "execution_count": 40,
   "metadata": {},
   "outputs": [],
   "source": [
    "def g2(X):\n",
    "    return -3 * X[0] - X[1] + 6"
   ]
  },
  {
   "cell_type": "code",
   "execution_count": 41,
   "metadata": {},
   "outputs": [],
   "source": [
    "constraint1 = dict(type='ineq', fun=g1)\n",
    "constraint2 = dict(type='ineq', fun=g2)"
   ]
  },
  {
   "cell_type": "code",
   "execution_count": 42,
   "metadata": {},
   "outputs": [],
   "source": [
    "result = optimize.minimize(f0, [-5, 5],\n",
    "                           constraints=[constraint1, constraint2])"
   ]
  },
  {
   "cell_type": "code",
   "execution_count": 43,
   "metadata": {},
   "outputs": [
    {
     "data": {
      "text/plain": [
       "     fun: -20.000000055575434\n",
       "     jac: array([-1.99999809, -3.99999928])\n",
       " message: 'Optimization terminated successfully.'\n",
       "    nfev: 32\n",
       "     nit: 8\n",
       "    njev: 8\n",
       "  status: 0\n",
       " success: True\n",
       "       x: array([1.0000006 , 1.99999971])"
      ]
     },
     "execution_count": 43,
     "metadata": {},
     "output_type": "execute_result"
    }
   ],
   "source": [
    "result"
   ]
  },
  {
   "cell_type": "code",
   "execution_count": 44,
   "metadata": {},
   "outputs": [
    {
     "data": {
      "text/plain": [
       "array([1.0000006 , 1.99999971])"
      ]
     },
     "execution_count": 44,
     "metadata": {},
     "output_type": "execute_result"
    }
   ],
   "source": [
    "result.x"
   ]
  },
  {
   "cell_type": "code",
   "execution_count": null,
   "metadata": {},
   "outputs": [],
   "source": []
  }
 ],
 "metadata": {
  "kernelspec": {
   "display_name": "Python 3",
   "language": "python",
   "name": "python3"
  },
  "language_info": {
   "codemirror_mode": {
    "name": "ipython",
    "version": 3
   },
   "file_extension": ".py",
   "mimetype": "text/x-python",
   "name": "python",
   "nbconvert_exporter": "python",
   "pygments_lexer": "ipython3",
   "version": "3.7.3"
  }
 },
 "nbformat": 4,
 "nbformat_minor": 2
}
