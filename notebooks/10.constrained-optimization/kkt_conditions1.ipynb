{
 "cells": [
  {
   "cell_type": "markdown",
   "metadata": {},
   "source": [
    "##  Maximize $xy$ \n",
    "subject to $x + y^2 ≤ 2$ \n",
    "\n",
    "$x, y ≥ 0$"
   ]
  },
  {
   "cell_type": "code",
   "execution_count": 1,
   "metadata": {},
   "outputs": [
    {
     "ename": "ImportError",
     "evalue": "DLL load failed: 找不到指定的模块。",
     "output_type": "error",
     "traceback": [
      "\u001b[1;31m---------------------------------------------------------------------------\u001b[0m",
      "\u001b[1;31mImportError\u001b[0m                               Traceback (most recent call last)",
      "\u001b[1;32m<ipython-input-1-06f4eb2fead8>\u001b[0m in \u001b[0;36m<module>\u001b[1;34m\u001b[0m\n\u001b[0;32m      1\u001b[0m \u001b[1;32mimport\u001b[0m \u001b[0mnumpy\u001b[0m \u001b[1;32mas\u001b[0m \u001b[0mnp\u001b[0m\u001b[1;33m\u001b[0m\u001b[1;33m\u001b[0m\u001b[0m\n\u001b[1;32m----> 2\u001b[1;33m \u001b[1;32mimport\u001b[0m \u001b[0mipyvolume\u001b[0m\u001b[1;33m.\u001b[0m\u001b[0mpylab\u001b[0m \u001b[1;32mas\u001b[0m \u001b[0mplt3d\u001b[0m\u001b[1;33m\u001b[0m\u001b[1;33m\u001b[0m\u001b[0m\n\u001b[0m\u001b[0;32m      3\u001b[0m \u001b[1;33m\u001b[0m\u001b[0m\n\u001b[0;32m      4\u001b[0m \u001b[0mX\u001b[0m \u001b[1;33m=\u001b[0m \u001b[0mnp\u001b[0m\u001b[1;33m.\u001b[0m\u001b[0mlinspace\u001b[0m\u001b[1;33m(\u001b[0m\u001b[1;33m-\u001b[0m\u001b[1;36m5\u001b[0m\u001b[1;33m,\u001b[0m \u001b[1;36m5\u001b[0m\u001b[1;33m,\u001b[0m \u001b[1;36m100\u001b[0m\u001b[1;33m)\u001b[0m\u001b[1;33m\u001b[0m\u001b[1;33m\u001b[0m\u001b[0m\n\u001b[0;32m      5\u001b[0m \u001b[0mY\u001b[0m \u001b[1;33m=\u001b[0m \u001b[0mnp\u001b[0m\u001b[1;33m.\u001b[0m\u001b[0mlinspace\u001b[0m\u001b[1;33m(\u001b[0m\u001b[1;33m-\u001b[0m\u001b[1;36m5\u001b[0m\u001b[1;33m,\u001b[0m \u001b[1;36m5\u001b[0m\u001b[1;33m,\u001b[0m \u001b[1;36m100\u001b[0m\u001b[1;33m)\u001b[0m\u001b[1;33m\u001b[0m\u001b[1;33m\u001b[0m\u001b[0m\n",
      "\u001b[1;32mE:\\a-soft\\Anaconda3\\lib\\site-packages\\ipyvolume\\__init__.py\u001b[0m in \u001b[0;36m<module>\u001b[1;34m\u001b[0m\n\u001b[0;32m      3\u001b[0m \u001b[1;33m\u001b[0m\u001b[0m\n\u001b[0;32m      4\u001b[0m \u001b[1;32mfrom\u001b[0m \u001b[1;33m.\u001b[0m \u001b[1;32mimport\u001b[0m \u001b[0mstyles\u001b[0m\u001b[1;33m\u001b[0m\u001b[1;33m\u001b[0m\u001b[0m\n\u001b[1;32m----> 5\u001b[1;33m \u001b[1;32mfrom\u001b[0m \u001b[1;33m.\u001b[0m\u001b[0mwidgets\u001b[0m \u001b[1;32mimport\u001b[0m \u001b[1;33m*\u001b[0m\u001b[1;33m\u001b[0m\u001b[1;33m\u001b[0m\u001b[0m\n\u001b[0m\u001b[0;32m      6\u001b[0m \u001b[1;32mfrom\u001b[0m \u001b[1;33m.\u001b[0m\u001b[0mtransferfunction\u001b[0m \u001b[1;32mimport\u001b[0m \u001b[1;33m*\u001b[0m\u001b[1;33m\u001b[0m\u001b[1;33m\u001b[0m\u001b[0m\n\u001b[0;32m      7\u001b[0m \u001b[1;32mfrom\u001b[0m \u001b[1;33m.\u001b[0m \u001b[1;32mimport\u001b[0m \u001b[0mexamples\u001b[0m\u001b[1;33m\u001b[0m\u001b[1;33m\u001b[0m\u001b[0m\n",
      "\u001b[1;32mE:\\a-soft\\Anaconda3\\lib\\site-packages\\ipyvolume\\widgets.py\u001b[0m in \u001b[0;36m<module>\u001b[1;34m\u001b[0m\n\u001b[0;32m      3\u001b[0m \u001b[1;32mimport\u001b[0m \u001b[0mipywidgets\u001b[0m\u001b[1;33m\u001b[0m\u001b[1;33m\u001b[0m\u001b[0m\n\u001b[0;32m      4\u001b[0m \u001b[1;32mfrom\u001b[0m \u001b[0mtraittypes\u001b[0m \u001b[1;32mimport\u001b[0m \u001b[0mArray\u001b[0m\u001b[1;33m\u001b[0m\u001b[1;33m\u001b[0m\u001b[0m\n\u001b[1;32m----> 5\u001b[1;33m \u001b[1;32mfrom\u001b[0m \u001b[0mipyvolume\u001b[0m\u001b[1;33m.\u001b[0m\u001b[0mtraittypes\u001b[0m \u001b[1;32mimport\u001b[0m \u001b[0mImage\u001b[0m\u001b[1;33m\u001b[0m\u001b[1;33m\u001b[0m\u001b[0m\n\u001b[0m\u001b[0;32m      6\u001b[0m \u001b[1;32mfrom\u001b[0m \u001b[0mtraitlets\u001b[0m \u001b[1;32mimport\u001b[0m \u001b[0mUnicode\u001b[0m\u001b[1;33m,\u001b[0m \u001b[0mInteger\u001b[0m\u001b[1;33m\u001b[0m\u001b[1;33m\u001b[0m\u001b[0m\n\u001b[0;32m      7\u001b[0m \u001b[1;32mimport\u001b[0m \u001b[0mtraitlets\u001b[0m\u001b[1;33m\u001b[0m\u001b[1;33m\u001b[0m\u001b[0m\n",
      "\u001b[1;32mE:\\a-soft\\Anaconda3\\lib\\site-packages\\ipyvolume\\traittypes.py\u001b[0m in \u001b[0;36m<module>\u001b[1;34m\u001b[0m\n\u001b[0;32m      1\u001b[0m \u001b[1;32mfrom\u001b[0m \u001b[0mtraitlets\u001b[0m \u001b[1;32mimport\u001b[0m \u001b[0mTraitType\u001b[0m\u001b[1;33m\u001b[0m\u001b[1;33m\u001b[0m\u001b[0m\n\u001b[1;32m----> 2\u001b[1;33m \u001b[1;32mimport\u001b[0m \u001b[0mPIL\u001b[0m\u001b[1;33m.\u001b[0m\u001b[0mImage\u001b[0m\u001b[1;33m\u001b[0m\u001b[1;33m\u001b[0m\u001b[0m\n\u001b[0m\u001b[0;32m      3\u001b[0m \u001b[1;33m\u001b[0m\u001b[0m\n\u001b[0;32m      4\u001b[0m \u001b[1;32mclass\u001b[0m \u001b[0mImage\u001b[0m\u001b[1;33m(\u001b[0m\u001b[0mTraitType\u001b[0m\u001b[1;33m)\u001b[0m\u001b[1;33m:\u001b[0m\u001b[1;33m\u001b[0m\u001b[1;33m\u001b[0m\u001b[0m\n\u001b[0;32m      5\u001b[0m     \u001b[1;34m\"\"\"A trait for PIL images.\"\"\"\u001b[0m\u001b[1;33m\u001b[0m\u001b[1;33m\u001b[0m\u001b[0m\n",
      "\u001b[1;32mE:\\a-soft\\Anaconda3\\lib\\site-packages\\PIL\\Image.py\u001b[0m in \u001b[0;36m<module>\u001b[1;34m\u001b[0m\n\u001b[0;32m     92\u001b[0m     \u001b[1;31m# Also note that Image.core is not a publicly documented interface,\u001b[0m\u001b[1;33m\u001b[0m\u001b[1;33m\u001b[0m\u001b[1;33m\u001b[0m\u001b[0m\n\u001b[0;32m     93\u001b[0m     \u001b[1;31m# and should be considered private and subject to change.\u001b[0m\u001b[1;33m\u001b[0m\u001b[1;33m\u001b[0m\u001b[1;33m\u001b[0m\u001b[0m\n\u001b[1;32m---> 94\u001b[1;33m     \u001b[1;32mfrom\u001b[0m \u001b[1;33m.\u001b[0m \u001b[1;32mimport\u001b[0m \u001b[0m_imaging\u001b[0m \u001b[1;32mas\u001b[0m \u001b[0mcore\u001b[0m\u001b[1;33m\u001b[0m\u001b[1;33m\u001b[0m\u001b[0m\n\u001b[0m\u001b[0;32m     95\u001b[0m     \u001b[1;32mif\u001b[0m \u001b[0m__version__\u001b[0m \u001b[1;33m!=\u001b[0m \u001b[0mgetattr\u001b[0m\u001b[1;33m(\u001b[0m\u001b[0mcore\u001b[0m\u001b[1;33m,\u001b[0m \u001b[1;34m'PILLOW_VERSION'\u001b[0m\u001b[1;33m,\u001b[0m \u001b[1;32mNone\u001b[0m\u001b[1;33m)\u001b[0m\u001b[1;33m:\u001b[0m\u001b[1;33m\u001b[0m\u001b[1;33m\u001b[0m\u001b[0m\n\u001b[0;32m     96\u001b[0m         raise ImportError(\"The _imaging extension was built for another \"\n",
      "\u001b[1;31mImportError\u001b[0m: DLL load failed: 找不到指定的模块。"
     ]
    }
   ],
   "source": [
    "import numpy as np\n",
    "import ipyvolume.pylab as plt3d\n",
    "\n",
    "X = np.linspace(-5, 5, 100)\n",
    "Y = np.linspace(-5, 5, 100)\n",
    "\n",
    "X, Y = np.meshgrid(X, Y)\n",
    "Z = -X * Y\n",
    "G1 = 2 - X - Y**2\n",
    "\n",
    "Z1 = np.linspace(-Z.max(), Z.max(), 100)\n",
    "X1 = np.linspace(-5, 5, 100)\n",
    "Z1, X1 = np.meshgrid(Z1, X1)\n",
    "\n",
    "plt3d.figure(width=600, height=600)\n",
    "plt3d.plot_surface(X, Z, Y)\n",
    "plt3d.plot_wireframe(X, G1, Y, color='green')\n",
    "plt3d.plot_wireframe(np.zeros(X.shape), Z1, X1, color='blue')\n",
    "plt3d.plot_wireframe(X1, Z1, np.zeros(X1.shape), color='blue')\n",
    "plt3d.ylabel(\"z\")\n",
    "plt3d.zlabel(\"y\")\n",
    "plt3d.show()"
   ]
  },
  {
   "cell_type": "markdown",
   "metadata": {},
   "source": [
    "## KKT Conditions"
   ]
  },
  {
   "cell_type": "code",
   "execution_count": 3,
   "metadata": {},
   "outputs": [],
   "source": [
    "import sympy\n",
    "sympy.init_printing()\n",
    "\n",
    "x, y = sympy.symbols(\"x, y\")\n",
    "f = -x * y\n",
    "h1 = 2 - x - y**2\n",
    "h2 = x\n",
    "h3 = y"
   ]
  },
  {
   "cell_type": "markdown",
   "metadata": {},
   "source": [
    "### 1.complementary slackness"
   ]
  },
  {
   "cell_type": "code",
   "execution_count": 4,
   "metadata": {},
   "outputs": [
    {
     "data": {
      "text/latex": [
       "$$\\left[\\begin{matrix}- \\mu_{1} + \\mu_{2}\\\\- 2 \\mu_{1} y + \\mu_{3}\\end{matrix}\\right]$$"
      ],
      "text/plain": [
       "⎡  -μ₁ + μ₂  ⎤\n",
       "⎢            ⎥\n",
       "⎣-2⋅μ₁⋅y + μ₃⎦"
      ]
     },
     "execution_count": 4,
     "metadata": {},
     "output_type": "execute_result"
    }
   ],
   "source": [
    "H = sympy.Matrix([h1, h2, h3])\n",
    "H_grad = [H.diff(i) for i in (x, y)]\n",
    "H_grad = sympy.Matrix([H_grad[0], H_grad[1]]).reshape(2, 3).T\n",
    "\n",
    "mu1, mu2, mu3 = sympy.symbols(\"mu1, mu2, mu3\")\n",
    "mu = sympy.Matrix([mu1, mu2, mu3])\n",
    "\n",
    "slack_cond = mu.T * H_grad \n",
    "slack_cond = sympy.Matrix(slack_cond).T\n",
    "slack_cond"
   ]
  },
  {
   "cell_type": "code",
   "execution_count": 5,
   "metadata": {},
   "outputs": [
    {
     "data": {
      "text/latex": [
       "$$\\left[\\begin{matrix}-1 & - 2 y\\\\1 & 0\\\\0 & 1\\end{matrix}\\right]$$"
      ],
      "text/plain": [
       "⎡-1  -2⋅y⎤\n",
       "⎢        ⎥\n",
       "⎢1    0  ⎥\n",
       "⎢        ⎥\n",
       "⎣0    1  ⎦"
      ]
     },
     "execution_count": 5,
     "metadata": {},
     "output_type": "execute_result"
    }
   ],
   "source": [
    "H_grad"
   ]
  },
  {
   "cell_type": "markdown",
   "metadata": {},
   "source": [
    "### 2.stationarity"
   ]
  },
  {
   "cell_type": "code",
   "execution_count": 23,
   "metadata": {},
   "outputs": [
    {
     "data": {
      "text/latex": [
       "$$\\left[\\begin{matrix}\\mu_{1} - \\mu_{2} - y\\\\2 \\mu_{1} y - \\mu_{3} - x\\end{matrix}\\right]$$"
      ],
      "text/plain": [
       "⎡  μ₁ - μ₂ - y  ⎤\n",
       "⎢               ⎥\n",
       "⎣2⋅μ₁⋅y - μ₃ - x⎦"
      ]
     },
     "execution_count": 23,
     "metadata": {},
     "output_type": "execute_result"
    }
   ],
   "source": [
    "f_grad = [f.diff(i) for i in (x, y)]\n",
    "f_grad = sympy.Matrix(f_grad)\n",
    "\n",
    "stat_cond = f_grad - slack_cond\n",
    "stat_cond"
   ]
  },
  {
   "cell_type": "markdown",
   "metadata": {},
   "source": [
    "### 3.primal feasibility"
   ]
  },
  {
   "cell_type": "code",
   "execution_count": 50,
   "metadata": {},
   "outputs": [
    {
     "data": {
      "text/latex": [
       "$$\\left[\\begin{matrix}- x - y^{2} + 2 \\geq 0\\\\x \\geq 0\\\\y \\geq 0\\end{matrix}\\right]$$"
      ],
      "text/plain": [
       "⎡      2        ⎤\n",
       "⎢-x - y  + 2 ≥ 0⎥\n",
       "⎢               ⎥\n",
       "⎢     x ≥ 0     ⎥\n",
       "⎢               ⎥\n",
       "⎣     y ≥ 0     ⎦"
      ]
     },
     "execution_count": 50,
     "metadata": {},
     "output_type": "execute_result"
    }
   ],
   "source": [
    "prim_h1 = sympy.simplify(h1>=0)\n",
    "prim_h2 = sympy.simplify(x>=0)\n",
    "prim_h3 = sympy.simplify(y>=0)\n",
    "prim_cond = sympy.Matrix([prim_h1, prim_h2, prim_h3])\n",
    "prim_cond"
   ]
  },
  {
   "cell_type": "markdown",
   "metadata": {},
   "source": [
    "### 4.dual feasibility"
   ]
  },
  {
   "cell_type": "code",
   "execution_count": 49,
   "metadata": {},
   "outputs": [
    {
     "data": {
      "text/latex": [
       "$$\\left[\\begin{matrix}\\mu_{1} \\geq 0\\\\\\mu_{2} \\geq 0\\\\\\mu_{3} \\geq 0\\end{matrix}\\right]$$"
      ],
      "text/plain": [
       "⎡μ₁ ≥ 0⎤\n",
       "⎢      ⎥\n",
       "⎢μ₂ ≥ 0⎥\n",
       "⎢      ⎥\n",
       "⎣μ₃ ≥ 0⎦"
      ]
     },
     "execution_count": 49,
     "metadata": {},
     "output_type": "execute_result"
    }
   ],
   "source": [
    "dual_mu = sympy.simplify([mu1>=0, mu2>=0, mu3>=0])\n",
    "dual_mu = sympy.Matrix(dual_mu)\n",
    "dual_mu"
   ]
  },
  {
   "cell_type": "markdown",
   "metadata": {},
   "source": [
    "### 5.Optimality"
   ]
  },
  {
   "cell_type": "code",
   "execution_count": 40,
   "metadata": {},
   "outputs": [
    {
     "data": {
      "text/latex": [
       "$$\\left[\\begin{matrix}- \\mu_{1} + \\mu_{2}\\\\- 2 \\mu_{1} y + \\mu_{3}\\\\\\mu_{1} - \\mu_{2} - y\\\\2 \\mu_{1} y - \\mu_{3} - x\\\\- x - y^{2} + 2 > 0\\\\x > 0\\\\y > 0\\\\\\mu_{1} > 0\\\\\\mu_{2} > 0\\\\\\mu_{3} > 0\\end{matrix}\\right]$$"
      ],
      "text/plain": [
       "⎡   -μ₁ + μ₂    ⎤\n",
       "⎢               ⎥\n",
       "⎢ -2⋅μ₁⋅y + μ₃  ⎥\n",
       "⎢               ⎥\n",
       "⎢  μ₁ - μ₂ - y  ⎥\n",
       "⎢               ⎥\n",
       "⎢2⋅μ₁⋅y - μ₃ - x⎥\n",
       "⎢               ⎥\n",
       "⎢      2        ⎥\n",
       "⎢-x - y  + 2 > 0⎥\n",
       "⎢               ⎥\n",
       "⎢     x > 0     ⎥\n",
       "⎢               ⎥\n",
       "⎢     y > 0     ⎥\n",
       "⎢               ⎥\n",
       "⎢    μ₁ > 0     ⎥\n",
       "⎢               ⎥\n",
       "⎢    μ₂ > 0     ⎥\n",
       "⎢               ⎥\n",
       "⎣    μ₃ > 0     ⎦"
      ]
     },
     "execution_count": 40,
     "metadata": {},
     "output_type": "execute_result"
    }
   ],
   "source": [
    "optima_cond = sympy.Matrix([slack_cond, stat_cond, prim_cond, dual_mu])\n",
    "optima_cond"
   ]
  },
  {
   "cell_type": "code",
   "execution_count": null,
   "metadata": {
    "collapsed": true
   },
   "outputs": [],
   "source": []
  }
 ],
 "metadata": {
  "kernelspec": {
   "display_name": "Python 3",
   "language": "python",
   "name": "python3"
  },
  "language_info": {
   "codemirror_mode": {
    "name": "ipython",
    "version": 3
   },
   "file_extension": ".py",
   "mimetype": "text/x-python",
   "name": "python",
   "nbconvert_exporter": "python",
   "pygments_lexer": "ipython3",
   "version": "3.7.3"
  }
 },
 "nbformat": 4,
 "nbformat_minor": 2
}
