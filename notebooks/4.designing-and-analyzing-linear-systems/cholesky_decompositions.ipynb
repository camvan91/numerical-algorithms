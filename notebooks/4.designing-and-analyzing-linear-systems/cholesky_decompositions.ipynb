{
 "cells": [
  {
   "cell_type": "code",
   "execution_count": 10,
   "metadata": {},
   "outputs": [],
   "source": [
    "import numpy as np"
   ]
  },
  {
   "cell_type": "markdown",
   "metadata": {},
   "source": [
    "## Cholesky Factorization"
   ]
  },
  {
   "cell_type": "markdown",
   "metadata": {},
   "source": [
    "### $P_{77}$ Exa. 4.6:\n",
    "### $A=\\left[\\begin{matrix}4 & -2 & 4\\\\-2 & 5 & -4\\\\4 & -4 & 14\\end{matrix}\\right]$"
   ]
  },
  {
   "cell_type": "code",
   "execution_count": 11,
   "metadata": {},
   "outputs": [
    {
     "data": {
      "text/plain": [
       "array([[ 4, -2,  4],\n",
       "       [-2,  5, -4],\n",
       "       [ 4, -4, 14]])"
      ]
     },
     "execution_count": 11,
     "metadata": {},
     "output_type": "execute_result"
    }
   ],
   "source": [
    "A = np.array([[4, -2, 4], [-2, 5, -4], [4, -4, 14]])\n",
    "A"
   ]
  },
  {
   "cell_type": "markdown",
   "metadata": {},
   "source": [
    "### From Scratch"
   ]
  },
  {
   "cell_type": "code",
   "execution_count": 12,
   "metadata": {},
   "outputs": [],
   "source": [
    "def cholesky_factorization(A):\n",
    "    n = len(A)\n",
    "    L = np.zeros_like(A)\n",
    "    for i in range(n):\n",
    "        for j in range(i+1):\n",
    "            if i == j:\n",
    "                val = A[i,i] - np.sum(L[i,:i]**2)\n",
    "                if val < 0:\n",
    "                    return 0.0\n",
    "                L[i,i] = np.sqrt(val)\n",
    "            else:\n",
    "                L[i,j] = (A[i,j] - np.sum(L[i,:j]*L[j,:j])) / L[j,j]\n",
    "                \n",
    "    return L"
   ]
  },
  {
   "cell_type": "code",
   "execution_count": 13,
   "metadata": {},
   "outputs": [
    {
     "data": {
      "text/plain": [
       "array([[ 2,  0,  0],\n",
       "       [-1,  2,  0],\n",
       "       [ 2, -1,  3]])"
      ]
     },
     "execution_count": 13,
     "metadata": {},
     "output_type": "execute_result"
    }
   ],
   "source": [
    "L = cholesky_factorization(A)\n",
    "L"
   ]
  },
  {
   "cell_type": "markdown",
   "metadata": {},
   "source": [
    "### Using `Numpy`"
   ]
  },
  {
   "cell_type": "code",
   "execution_count": 14,
   "metadata": {},
   "outputs": [
    {
     "data": {
      "text/plain": [
       "array([[ 2.,  0.,  0.],\n",
       "       [-1.,  2.,  0.],\n",
       "       [ 2., -1.,  3.]])"
      ]
     },
     "execution_count": 14,
     "metadata": {},
     "output_type": "execute_result"
    }
   ],
   "source": [
    "L = np.linalg.cholesky(A)\n",
    "L"
   ]
  },
  {
   "cell_type": "code",
   "execution_count": 15,
   "metadata": {},
   "outputs": [
    {
     "data": {
      "text/plain": [
       "True"
      ]
     },
     "execution_count": 15,
     "metadata": {},
     "output_type": "execute_result"
    }
   ],
   "source": [
    "np.allclose(L @ L.T, A)"
   ]
  },
  {
   "cell_type": "markdown",
   "metadata": {},
   "source": [
    "## Using Cholesky for Solving $Ax=b$\n",
    "### $\\left[\\begin{matrix}2 & -2 & 3\\\\-2 & 5 & 4\\\\ -3 & 4 & 5\\end{matrix}\\right] \\left [ \\begin{matrix} x_1 \\\\ x_2 \\\\ x_3\\end{matrix}\\right] =\\left[\\begin{matrix}7\\\\-12\\\\-12\\end{matrix}\\right]$"
   ]
  },
  {
   "cell_type": "markdown",
   "metadata": {},
   "source": [
    "### From Scratch"
   ]
  },
  {
   "cell_type": "code",
   "execution_count": 97,
   "metadata": {},
   "outputs": [],
   "source": [
    "def forward_substitution(L, b):\n",
    "    n = len(L)\n",
    "    y = np.zeros(n)\n",
    "    y[0] = b[0] / L[0][0]\n",
    "    for k in range(1, n):\n",
    "        y[k] = (b[k] - L[k, 0:k] @ y[0:k]) / L[k][k]\n",
    "    return y"
   ]
  },
  {
   "cell_type": "code",
   "execution_count": 98,
   "metadata": {},
   "outputs": [],
   "source": [
    "def back_substitution(A, b):\n",
    "    n = len(A)\n",
    "    x = np.zeros(n)\n",
    "    G = np.c_[A, b]\n",
    "    x[n-1] = G[n-1, n] / G[n-1, n-1]\n",
    "    \n",
    "    for k in range(n-1, -1, -1):\n",
    "        x[k] = (G[k, n] - np.dot(G[k, k+1:n], x[k+1:n])) / G[k, k]\n",
    "    return x"
   ]
  },
  {
   "cell_type": "code",
   "execution_count": 138,
   "metadata": {},
   "outputs": [],
   "source": [
    "A = np.array([[2, -2, 3], [-2, 5, 4], [-3, 4, 5]])\n",
    "b = np.array([7, -12, -12])"
   ]
  },
  {
   "cell_type": "code",
   "execution_count": 140,
   "metadata": {},
   "outputs": [
    {
     "data": {
      "text/plain": [
       "array([ 1.74418605, -1.72093023,  0.02325581])"
      ]
     },
     "execution_count": 140,
     "metadata": {},
     "output_type": "execute_result"
    }
   ],
   "source": [
    "y = forward_substitution(L, A.T @ b)\n",
    "x = back_substitution(L.T, y)\n",
    "x"
   ]
  },
  {
   "cell_type": "markdown",
   "metadata": {},
   "source": [
    "### Using `Numpy`"
   ]
  },
  {
   "cell_type": "code",
   "execution_count": 142,
   "metadata": {},
   "outputs": [
    {
     "data": {
      "text/plain": [
       "array([ 1.74418605, -1.72093023,  0.02325581])"
      ]
     },
     "execution_count": 142,
     "metadata": {},
     "output_type": "execute_result"
    }
   ],
   "source": [
    "np.linalg.solve(A, b)"
   ]
  }
 ],
 "metadata": {
  "kernelspec": {
   "display_name": "Python 3",
   "language": "python",
   "name": "python3"
  },
  "language_info": {
   "codemirror_mode": {
    "name": "ipython",
    "version": 3
   },
   "file_extension": ".py",
   "mimetype": "text/x-python",
   "name": "python",
   "nbconvert_exporter": "python",
   "pygments_lexer": "ipython3",
   "version": "3.6.8"
  }
 },
 "nbformat": 4,
 "nbformat_minor": 2
}
