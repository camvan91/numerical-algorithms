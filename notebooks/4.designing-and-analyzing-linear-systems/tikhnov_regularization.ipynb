{
 "cells": [
  {
   "cell_type": "code",
   "execution_count": 1,
   "metadata": {},
   "outputs": [],
   "source": [
    "import sympy\n",
    "sympy.init_printing()"
   ]
  },
  {
   "cell_type": "markdown",
   "metadata": {},
   "source": [
    "## P71 Exa. 4.5"
   ]
  },
  {
   "cell_type": "code",
   "execution_count": 3,
   "metadata": {},
   "outputs": [
    {
     "data": {
      "text/latex": [
       "$$\\left ( \\left[\\begin{matrix}1 & 1\\\\1 & 1.00001\\end{matrix}\\right], \\quad \\left[\\begin{matrix}1\\\\0.99\\end{matrix}\\right]\\right )$$"
      ],
      "text/plain": [
       "⎛⎡1     1   ⎤  ⎡ 1  ⎤⎞\n",
       "⎜⎢          ⎥, ⎢    ⎥⎟\n",
       "⎝⎣1  1.00001⎦  ⎣0.99⎦⎠"
      ]
     },
     "execution_count": 3,
     "metadata": {},
     "output_type": "execute_result"
    }
   ],
   "source": [
    "x, y = sympy.symbols(\"x, y\")\n",
    "X = sympy.Matrix([x, y])\n",
    "A = sympy.Matrix([[1, 1], [1, 1.00001]])\n",
    "b = sympy.Matrix([1, 0.99])\n",
    "A, b"
   ]
  },
  {
   "cell_type": "code",
   "execution_count": 4,
   "metadata": {},
   "outputs": [
    {
     "data": {
      "image/png": "[encoded data removed]",
      "text/latex": [
       "$$\\left \\{ x : 1001.0, \\quad y : -1000.0\\right \\}$$"
      ],
      "text/plain": [
       "{x: 1001.0, y: -1000.0}"
      ]
     },
     "execution_count": 4,
     "metadata": {},
     "output_type": "execute_result"
    }
   ],
   "source": [
    "sympy.solve(A*X - b, X)"
   ]
  },
  {
   "cell_type": "markdown",
   "metadata": {},
   "source": [
    "### Using Tikhnov Regularization"
   ]
  },
  {
   "cell_type": "code",
   "execution_count": 5,
   "metadata": {},
   "outputs": [
    {
     "data": {
      "text/latex": [
       "$$\\left[\\begin{matrix}x \\left(\\alpha + 2\\right) + 2.00001 y - 1.99\\\\2.00001 x + y \\left(\\alpha + 2.0000200001\\right) - 1.9900099\\end{matrix}\\right]$$"
      ],
      "text/plain": [
       "⎡        x⋅(α + 2) + 2.00001⋅y - 1.99        ⎤\n",
       "⎢                                            ⎥\n",
       "⎣2.00001⋅x + y⋅(α + 2.0000200001) - 1.9900099⎦"
      ]
     },
     "execution_count": 5,
     "metadata": {},
     "output_type": "execute_result"
    }
   ],
   "source": [
    "alpha = sympy.Symbol(\"alpha\")\n",
    "I = sympy.eye(2)\n",
    "tik_equation = (A.T * A + alpha * I) * X - A.T * b\n",
    "tik_equation"
   ]
  },
  {
   "cell_type": "code",
   "execution_count": 6,
   "metadata": {},
   "outputs": [],
   "source": [
    "alpha_vals = [0.1, 0.001, 1e-05]\n",
    "sols = []\n",
    "for a in alpha_vals:\n",
    "    sol = sympy.solve(tik_equation.subs(alpha, a), X)\n",
    "    sol.update({\"alpha\": a})\n",
    "    sols.append(sol)"
   ]
  },
  {
   "cell_type": "code",
   "execution_count": 7,
   "metadata": {},
   "outputs": [
    {
     "data": {
      "text/plain": [
       "[{x: 0.485363730046707, y: 0.485365656622674, 'alpha': 0.1},\n",
       " {x: 0.497398176017726, y: 0.497350638141074, 'alpha': 0.001},\n",
       " {x: 0.499997500012500, y: 0.494997525012375, 'alpha': 1e-05}]"
      ]
     },
     "execution_count": 7,
     "metadata": {},
     "output_type": "execute_result"
    }
   ],
   "source": [
    "sols # As alpha increase, the regularizer becomes stronger, the solution becomes less accurate"
   ]
  }
 ],
 "metadata": {
  "kernelspec": {
   "display_name": "Python 3",
   "language": "python",
   "name": "python3"
  },
  "language_info": {
   "codemirror_mode": {
    "name": "ipython",
    "version": 3
   },
   "file_extension": ".py",
   "mimetype": "text/x-python",
   "name": "python",
   "nbconvert_exporter": "python",
   "pygments_lexer": "ipython3",
   "version": "3.6.8"
  }
 },
 "nbformat": 4,
 "nbformat_minor": 2
}
