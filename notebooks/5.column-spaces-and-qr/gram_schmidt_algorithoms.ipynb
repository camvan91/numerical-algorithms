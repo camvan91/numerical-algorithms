{
 "cells": [
  {
   "cell_type": "code",
   "execution_count": 39,
   "metadata": {},
   "outputs": [],
   "source": [
    "import numpy as np"
   ]
  },
  {
   "cell_type": "markdown",
   "metadata": {},
   "source": [
    "### $P_{96}$ Exa. 5.1:\n",
    "$A=\\left[\\begin{matrix}1 & 1 & 1\\\\0 & 1 & 1\\\\0 & 1 & 0\\end{matrix}\\right]$"
   ]
  },
  {
   "cell_type": "markdown",
   "metadata": {},
   "source": [
    "## Classical Gram-Schmidt Algorithms"
   ]
  },
  {
   "cell_type": "code",
   "execution_count": 40,
   "metadata": {},
   "outputs": [],
   "source": [
    "def ratio(v1, v2):\n",
    "    return v2.dot(v1) / v1.dot(v1)"
   ]
  },
  {
   "cell_type": "code",
   "execution_count": 41,
   "metadata": {},
   "outputs": [],
   "source": [
    "def projection(v1, v2):\n",
    "    return ratio(v1, v2) * v1"
   ]
  },
  {
   "cell_type": "code",
   "execution_count": 42,
   "metadata": {},
   "outputs": [],
   "source": [
    "def gramm_schmidt(x):\n",
    "    x = x.T\n",
    "    n = len(x)\n",
    "    # Put orthogonal ones into a list\n",
    "    v_lst = []\n",
    "    v_lst.append(x[0])\n",
    "    \n",
    "    for k in range(1, n):\n",
    "        sum_prj = 0\n",
    "        for v in v_lst:\n",
    "            sum_prj += projection(v, x[k]) # Projecting onto orthonormal basis\n",
    "        r = x[k] - sum_prj # Residual is orthogonal to current basis \n",
    "        v_lst.append(r)\n",
    "    return v_lst      "
   ]
  },
  {
   "cell_type": "code",
   "execution_count": 43,
   "metadata": {},
   "outputs": [
    {
     "name": "stdout",
     "output_type": "stream",
     "text": [
      "v0: [1 0 0]\n",
      "\n",
      "v1: [0. 1. 1.]\n",
      "\n",
      "v2: [ 0.   0.5 -0.5]\n",
      "\n"
     ]
    }
   ],
   "source": [
    "A = np.array([[1, 1, 1], [0, 1, 1], [0, 1, 0]])\n",
    "v_orths = gramm_schmidt(A)\n",
    "for i,v in enumerate(v_orths):\n",
    "    print(\"v{}: {}\\n\".format(i, v))"
   ]
  },
  {
   "cell_type": "markdown",
   "metadata": {},
   "source": [
    "Normalization:"
   ]
  },
  {
   "cell_type": "code",
   "execution_count": 44,
   "metadata": {},
   "outputs": [],
   "source": [
    "def gramm_schmidt_normalized(x):\n",
    "    x = x.T\n",
    "    n = len(x)\n",
    "    # Put orthogonal ones into a list\n",
    "    v_lst = []\n",
    "    v_lst.append(x[0] / np.linalg.norm(x[0]))\n",
    "    \n",
    "    for k in range(1, n):\n",
    "        sum_prj = 0\n",
    "        for v in v_lst:\n",
    "            sum_prj += projection(v, x[k]) # Projecting onto orthonormal basis\n",
    "        r = x[k] - sum_prj # Residual is orthogonal to current basis\n",
    "        r_nor = r / np.linalg.norm(r)\n",
    "        v_lst.append(r_nor)\n",
    "    return v_lst  "
   ]
  },
  {
   "cell_type": "code",
   "execution_count": 45,
   "metadata": {},
   "outputs": [
    {
     "name": "stdout",
     "output_type": "stream",
     "text": [
      "v0: [1. 0. 0.]\n",
      "\n",
      "v1: [0.         0.70710678 0.70710678]\n",
      "\n",
      "v2: [ 0.          0.70710678 -0.70710678]\n",
      "\n"
     ]
    }
   ],
   "source": [
    "v_orths_normed = gramm_schmidt_normalized(A)\n",
    "for i,v in enumerate(v_orths_normed):\n",
    "    print(\"v{}: {}\\n\".format(i, v))"
   ]
  },
  {
   "cell_type": "markdown",
   "metadata": {},
   "source": [
    "### Problems"
   ]
  },
  {
   "cell_type": "markdown",
   "metadata": {},
   "source": [
    "$A=\\left[\\begin{matrix} 1 & 1 & 1 \\\\ 0.0001 & 0.0001 & 0 \\\\ 0.0001 & 0 & 0.0001 \\end{matrix}\\right] $"
   ]
  },
  {
   "cell_type": "code",
   "execution_count": 8,
   "metadata": {},
   "outputs": [
    {
     "name": "stdout",
     "output_type": "stream",
     "text": [
      "v0: [1. 1. 1.]\n",
      "\n",
      "v1: [ 3.33333333e-05  3.33333333e-05 -6.66666667e-05]\n",
      "\n",
      "v2: [ 5.e-05 -5.e-05  0.e+00]\n",
      "\n"
     ]
    }
   ],
   "source": [
    "A = np.array([[1, 0.0001, 0.0001], [1, 0.0001, 0], [1, 0, 0.0001]]).astype(float)\n",
    "v_orths = gramm_schmidt(A)\n",
    "for i,v in enumerate(v_orths):\n",
    "    print(\"v{}: {}\\n\".format(i, v))"
   ]
  },
  {
   "cell_type": "code",
   "execution_count": 9,
   "metadata": {
    "scrolled": true
   },
   "outputs": [
    {
     "name": "stdout",
     "output_type": "stream",
     "text": [
      "v0: [0.57735027 0.57735027 0.57735027]\n",
      "\n",
      "v1: [ 0.40824829  0.40824829 -0.81649658]\n",
      "\n",
      "v2: [ 0.70710678 -0.70710678  0.        ]\n",
      "\n"
     ]
    }
   ],
   "source": [
    "v_orths_normed = gramm_schmidt_normalized(A)\n",
    "for i,v in enumerate(v_orths_normed):\n",
    "    print(\"v{}: {}\\n\".format(i, v))"
   ]
  },
  {
   "cell_type": "code",
   "execution_count": 10,
   "metadata": {},
   "outputs": [
    {
     "data": {
      "text/plain": [
       "0.9999999949999999"
      ]
     },
     "execution_count": 10,
     "metadata": {},
     "output_type": "execute_result"
    }
   ],
   "source": [
    "np.sqrt(9.99999990e-01**2 + 9.99999990e-05**2 + 2.82029826e-09**2)"
   ]
  }
 ],
 "metadata": {
  "kernelspec": {
   "display_name": "Python 3",
   "language": "python",
   "name": "python3"
  },
  "language_info": {
   "codemirror_mode": {
    "name": "ipython",
    "version": 3
   },
   "file_extension": ".py",
   "mimetype": "text/x-python",
   "name": "python",
   "nbconvert_exporter": "python",
   "pygments_lexer": "ipython3",
   "version": "3.6.8"
  }
 },
 "nbformat": 4,
 "nbformat_minor": 2
}
