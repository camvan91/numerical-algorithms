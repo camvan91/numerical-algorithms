{
 "cells": [
  {
   "cell_type": "code",
   "execution_count": 13,
   "metadata": {},
   "outputs": [],
   "source": [
    "import numpy as np"
   ]
  },
  {
   "cell_type": "markdown",
   "metadata": {},
   "source": [
    "## QR Factorization"
   ]
  },
  {
   "cell_type": "markdown",
   "metadata": {},
   "source": [
    "### $P_{97}$ Exa. 5.2: \n",
    "$A=\\left[\\begin{matrix}1 & 1 & 1\\\\0 & 1 & 1\\\\0 & 1 & 0\\end{matrix}\\right]$"
   ]
  },
  {
   "cell_type": "markdown",
   "metadata": {},
   "source": [
    "### From Scratch"
   ]
  },
  {
   "cell_type": "code",
   "execution_count": 14,
   "metadata": {},
   "outputs": [],
   "source": [
    "def ratio(v1, v2):\n",
    "    return v2.dot(v1) / v1.dot(v1)"
   ]
  },
  {
   "cell_type": "code",
   "execution_count": 15,
   "metadata": {},
   "outputs": [],
   "source": [
    "def projection(v1, v2):\n",
    "    return ratio(v1, v2) * v1"
   ]
  },
  {
   "cell_type": "code",
   "execution_count": 16,
   "metadata": {},
   "outputs": [],
   "source": [
    "def gramm_schmidt_normalized(x):\n",
    "    x = x.T\n",
    "    n = len(x)\n",
    "    # Put orthogonal ones into a list\n",
    "    v_lst = []\n",
    "    v_lst.append(x[0] / np.linalg.norm(x[0]))\n",
    "    \n",
    "    for k in range(1, n):\n",
    "        sum_prj = 0\n",
    "        for v in v_lst:\n",
    "            sum_prj += projection(v, x[k]) # Projecting onto orthonormal basis\n",
    "        r = x[k] - sum_prj # Residual is orthogonal to current basis\n",
    "        r_nor = r / np.linalg.norm(r)\n",
    "        v_lst.append(r_nor)\n",
    "    return v_lst    "
   ]
  },
  {
   "cell_type": "code",
   "execution_count": 17,
   "metadata": {},
   "outputs": [
    {
     "data": {
      "text/plain": [
       "[array([1., 0., 0.]),\n",
       " array([0.        , 0.70710678, 0.70710678]),\n",
       " array([ 0.        ,  0.70710678, -0.70710678])]"
      ]
     },
     "execution_count": 17,
     "metadata": {},
     "output_type": "execute_result"
    }
   ],
   "source": [
    "A = np.array([[1, 1, 1], [0, 1, 1], [0, 1, 0]]).astype(float)\n",
    "v_orths_normed = gramm_schmidt_normalized(A)\n",
    "v_orths_normed"
   ]
  },
  {
   "cell_type": "code",
   "execution_count": 18,
   "metadata": {},
   "outputs": [
    {
     "name": "stdout",
     "output_type": "stream",
     "text": [
      "Q: [[ 1.          0.          0.        ]\n",
      " [ 0.          0.70710678  0.70710678]\n",
      " [ 0.          0.70710678 -0.70710678]]\n",
      "\n"
     ]
    }
   ],
   "source": [
    "Q = np.array([v_orths_normed[0], v_orths_normed[1], v_orths_normed[2]])\n",
    "print(\"Q: {}\\n\".format(Q))"
   ]
  },
  {
   "cell_type": "code",
   "execution_count": 19,
   "metadata": {},
   "outputs": [
    {
     "name": "stdout",
     "output_type": "stream",
     "text": [
      "R: [[1.         1.         1.        ]\n",
      " [0.         1.41421356 0.70710678]\n",
      " [0.         0.         0.70710678]]\n"
     ]
    }
   ],
   "source": [
    "R = Q.T @ A\n",
    "print(\"R: {}\".format(R))"
   ]
  },
  {
   "cell_type": "code",
   "execution_count": 20,
   "metadata": {},
   "outputs": [
    {
     "data": {
      "text/plain": [
       "True"
      ]
     },
     "execution_count": 20,
     "metadata": {},
     "output_type": "execute_result"
    }
   ],
   "source": [
    "np.allclose(A, Q.T @ R)"
   ]
  },
  {
   "cell_type": "markdown",
   "metadata": {},
   "source": [
    "### Using `Numpy`"
   ]
  },
  {
   "cell_type": "code",
   "execution_count": 26,
   "metadata": {},
   "outputs": [
    {
     "name": "stdout",
     "output_type": "stream",
     "text": [
      "Q:\n",
      " [[ 1.          0.          0.        ]\n",
      " [ 0.         -0.70710678 -0.70710678]\n",
      " [ 0.         -0.70710678  0.70710678]]\n",
      "R:\n",
      " [[ 1.          1.          1.        ]\n",
      " [ 0.         -1.41421356 -0.70710678]\n",
      " [ 0.          0.         -0.70710678]]\n"
     ]
    }
   ],
   "source": [
    "A = np.array([[1, 1, 1], [0, 1, 1], [0, 1, 0]]) \n",
    "Q, R = np.linalg.qr(A)\n",
    "print(\"Q:\\n {}\".format(Q))\n",
    "print(\"R:\\n {}\".format(R))"
   ]
  },
  {
   "cell_type": "markdown",
   "metadata": {},
   "source": [
    "## Using QR for Solving $Ax=b$\n",
    "\n",
    "### $\\left[\\begin{matrix}2 & 3\\\\5 & 4\\end{matrix}\\right] \\left [ \\begin{matrix} x_1 \\\\ x_2 \\end{matrix}\\right] =\\left[\\begin{matrix}4\\\\3\\end{matrix}\\right]$"
   ]
  },
  {
   "cell_type": "code",
   "execution_count": 27,
   "metadata": {},
   "outputs": [],
   "source": [
    "A = np.array([[2, 3], [5, 4]])\n",
    "b = np.array([4, 3])"
   ]
  },
  {
   "cell_type": "code",
   "execution_count": 28,
   "metadata": {},
   "outputs": [],
   "source": [
    "Q, R = scipy.linalg.qr(A)"
   ]
  },
  {
   "cell_type": "code",
   "execution_count": 29,
   "metadata": {},
   "outputs": [],
   "source": [
    "def back_substitution(A, b):\n",
    "    n = len(A)\n",
    "    x = np.zeros(n)\n",
    "    G = np.c_[A,b]\n",
    "    x[n-1] = G[n-1, n] / G[n-1, n-1]\n",
    "    \n",
    "    for k in range(n-1, -1, -1):\n",
    "        x[k] = (G[k, n] - G[k, k+1:n] @ x[k+1:n]) / G[k, k]\n",
    "    return x"
   ]
  },
  {
   "cell_type": "code",
   "execution_count": 30,
   "metadata": {},
   "outputs": [
    {
     "data": {
      "text/plain": [
       "array([-1.,  2.])"
      ]
     },
     "execution_count": 30,
     "metadata": {},
     "output_type": "execute_result"
    }
   ],
   "source": [
    "back_substitution(R, Q.T @ b)"
   ]
  },
  {
   "cell_type": "code",
   "execution_count": 31,
   "metadata": {},
   "outputs": [
    {
     "data": {
      "text/plain": [
       "array([-1.,  2.])"
      ]
     },
     "execution_count": 31,
     "metadata": {},
     "output_type": "execute_result"
    }
   ],
   "source": [
    "np.linalg.solve(A, b)"
   ]
  }
 ],
 "metadata": {
  "kernelspec": {
   "display_name": "Python 3",
   "language": "python",
   "name": "python3"
  },
  "language_info": {
   "codemirror_mode": {
    "name": "ipython",
    "version": 3
   },
   "file_extension": ".py",
   "mimetype": "text/x-python",
   "name": "python",
   "nbconvert_exporter": "python",
   "pygments_lexer": "ipython3",
   "version": "3.6.8"
  }
 },
 "nbformat": 4,
 "nbformat_minor": 2
}
