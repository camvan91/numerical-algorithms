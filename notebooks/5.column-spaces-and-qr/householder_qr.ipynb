{
 "cells": [
  {
   "cell_type": "code",
   "execution_count": 1,
   "metadata": {},
   "outputs": [],
   "source": [
    "import numpy as np"
   ]
  },
  {
   "cell_type": "markdown",
   "metadata": {},
   "source": [
    "## Householder QR"
   ]
  },
  {
   "cell_type": "markdown",
   "metadata": {},
   "source": [
    "### P101 Exa. 5.3, 5.4 \n",
    "$A=\\left[\\begin{matrix}2 & -1 & 5\\\\2 & 1 & 2\\\\1 & 0 & -2\\end{matrix}\\right]$"
   ]
  },
  {
   "cell_type": "markdown",
   "metadata": {},
   "source": [
    "### From Scratch"
   ]
  },
  {
   "cell_type": "code",
   "execution_count": 2,
   "metadata": {},
   "outputs": [],
   "source": [
    "def householder_qr(A):\n",
    "    n = len(A)\n",
    "    Q = np.identity(n)\n",
    "    R = A\n",
    "    I = np.identity(n)\n",
    "    for k in range(n - 1):\n",
    "        a = R[:, k]\n",
    "        v = a - np.linalg.norm(a) * I[:, k]\n",
    "        v = v.reshape(-1, 1)\n",
    "        Hv = I - 2 * (v @ v.T) /  (v.T @ v)\n",
    "        R = Hv @ R\n",
    "        Q = Q @ Hv.T\n",
    "        \n",
    "    return Q, R"
   ]
  },
  {
   "cell_type": "code",
   "execution_count": 3,
   "metadata": {},
   "outputs": [
    {
     "name": "stdout",
     "output_type": "stream",
     "text": [
      "Q:\n",
      " [[ 6.66666667e-01 -7.07106781e-01 -2.35702260e-01]\n",
      " [ 6.66666667e-01  7.07106781e-01 -2.35702260e-01]\n",
      " [ 3.33333333e-01 -5.55111512e-17  9.42809042e-01]]\n",
      "R:\n",
      " [[ 3.00000000e+00 -1.84889275e-32  4.00000000e+00]\n",
      " [-3.92523115e-16  1.41421356e+00 -2.12132034e+00]\n",
      " [-9.75530386e-17 -1.11022302e-16 -3.53553391e+00]]\n"
     ]
    }
   ],
   "source": [
    "A = np.array([[2, -1, 5], [2, 1, 2], [1, 0, -2]])\n",
    "Q, R = householder_qr(A)\n",
    "print(\"Q:\\n {}\".format(Q))\n",
    "print(\"R:\\n {}\".format(R))"
   ]
  },
  {
   "cell_type": "code",
   "execution_count": 4,
   "metadata": {},
   "outputs": [
    {
     "data": {
      "text/plain": [
       "True"
      ]
     },
     "execution_count": 4,
     "metadata": {},
     "output_type": "execute_result"
    }
   ],
   "source": [
    "np.allclose(A, Q @ R)"
   ]
  },
  {
   "cell_type": "markdown",
   "metadata": {},
   "source": [
    "### Using `Numpy`"
   ]
  },
  {
   "cell_type": "code",
   "execution_count": 5,
   "metadata": {},
   "outputs": [
    {
     "name": "stdout",
     "output_type": "stream",
     "text": [
      "Q:\n",
      " [[-6.66666667e-01  7.07106781e-01 -2.35702260e-01]\n",
      " [-6.66666667e-01 -7.07106781e-01 -2.35702260e-01]\n",
      " [-3.33333333e-01  2.77555756e-17  9.42809042e-01]]\n",
      "R:\n",
      " [[-3.          0.         -4.        ]\n",
      " [ 0.         -1.41421356  2.12132034]\n",
      " [ 0.          0.         -3.53553391]]\n"
     ]
    }
   ],
   "source": [
    "Q, R = np.linalg.qr(A)\n",
    "print(\"Q:\\n {}\".format(Q))\n",
    "print(\"R:\\n {}\".format(R))"
   ]
  }
 ],
 "metadata": {
  "kernelspec": {
   "display_name": "Python 3",
   "language": "python",
   "name": "python3"
  },
  "language_info": {
   "codemirror_mode": {
    "name": "ipython",
    "version": 3
   },
   "file_extension": ".py",
   "mimetype": "text/x-python",
   "name": "python",
   "nbconvert_exporter": "python",
   "pygments_lexer": "ipython3",
   "version": "3.6.8"
  }
 },
 "nbformat": 4,
 "nbformat_minor": 2
}
