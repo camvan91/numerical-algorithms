{
 "cells": [
  {
   "cell_type": "code",
   "execution_count": 1,
   "metadata": {},
   "outputs": [],
   "source": [
    "import matplotlib.pyplot as plt\n",
    "import numpy as np"
   ]
  },
  {
   "cell_type": "markdown",
   "metadata": {},
   "source": [
    "## Gauss Newton Algorithms"
   ]
  },
  {
   "cell_type": "code",
   "execution_count": 4,
   "metadata": {},
   "outputs": [],
   "source": [
    "def guass_newton_nonlinear_least(F, D, p0, tol=1e-5, num_epochs=100):\n",
    "    p = np.zeros([num_epochs, 2])\n",
    "    p[0] = p0\n",
    "    for k in range(num_epochs-1):\n",
    "        tmp = np.linalg.inv(D(p[k]).T.dot(D(p[k])))\n",
    "        p[k+1] = p[k] - (tmp.dot(D(p[k]).T).dot(F(p[k]))).T\n",
    "        diff = abs(np.linalg.norm(D(p[k+1])) - np.linalg.norm(D(p[k])))\n",
    "        if diff < tol:\n",
    "            print(\"The number of iteration: {}\".format(k + 1))\n",
    "            break\n",
    "        \n",
    "    return p[k+1]"
   ]
  },
  {
   "cell_type": "markdown",
   "metadata": {},
   "source": [
    "## Min$ y=5e^{3x}$"
   ]
  },
  {
   "cell_type": "code",
   "execution_count": 2,
   "metadata": {},
   "outputs": [
    {
     "name": "stdout",
     "output_type": "stream",
     "text": [
      "The real model: y = 5exp(3x)\n"
     ]
    }
   ],
   "source": [
    "xn = np.random.rand(100)\n",
    "a = 3\n",
    "c = 5\n",
    "yn_real = 5 * np.exp(3 * xn)\n",
    "yn = yn_real + np.random.normal(0, 2, 100)\n",
    "print(\"The real model: y = {}exp({}x)\".format(c, a))"
   ]
  },
  {
   "cell_type": "code",
   "execution_count": 3,
   "metadata": {},
   "outputs": [
    {
     "data": {
      "image/png": "[encoded data removed]",
      "text/plain": [
       "<Figure size 576x432 with 1 Axes>"
      ]
     },
     "metadata": {
      "needs_background": "light"
     },
     "output_type": "display_data"
    }
   ],
   "source": [
    "plt.figure(figsize=(8, 6))\n",
    "plt.plot(xn, yn, \"b.\")\n",
    "plt.show()"
   ]
  },
  {
   "cell_type": "code",
   "execution_count": 5,
   "metadata": {},
   "outputs": [],
   "source": [
    "import sympy\n",
    "sympy.init_printing()\n",
    "\n",
    "a, c, x = sympy.symbols(\"a, c, x\")\n",
    "f_sym = c * sympy.exp(a * x)\n",
    "f_mat = sympy.Matrix([f_sym])\n",
    "f_grad_sym = f_mat.jacobian([a, c])\n",
    "\n",
    "f_lst = []\n",
    "g_lst = []\n",
    "for i in range(100):\n",
    "    fi = yn[i] - f_sym\n",
    "    fi_mat = sympy.Matrix([fi])\n",
    "    fi_grad = fi_mat.jacobian([a, c])\n",
    "    f_lst.append(fi.subs({x: xn[i]}))\n",
    "    g_lst.append(fi_grad.subs({x: xn[i]}))\n",
    "    \n",
    "F_lst = sympy.Matrix(f_lst)\n",
    "G_lst = sympy.Matrix(g_lst)\n",
    "F_lamb = sympy.lambdify((a, c), F_lst, 'numpy')\n",
    "D_lamb = sympy.lambdify((a, c), G_lst, 'numpy')"
   ]
  },
  {
   "cell_type": "code",
   "execution_count": 6,
   "metadata": {},
   "outputs": [],
   "source": [
    "def func_XY_to_X_Y(f):\n",
    "    return lambda X: np.array(f(X[0], X[1]))"
   ]
  },
  {
   "cell_type": "code",
   "execution_count": 7,
   "metadata": {},
   "outputs": [],
   "source": [
    "F = func_XY_to_X_Y(F_lamb)\n",
    "D = func_XY_to_X_Y(D_lamb)"
   ]
  },
  {
   "cell_type": "code",
   "execution_count": 8,
   "metadata": {},
   "outputs": [
    {
     "name": "stdout",
     "output_type": "stream",
     "text": [
      "The number of iteration: 14\n",
      "The optimal value: a=3.02, c=4.89\n"
     ]
    }
   ],
   "source": [
    "opts = guass_newton_nonlinear_least(F, D, np.array([10, 20]))\n",
    "print(\"The optimal value: a={:.2f}, c={:.2f}\".format(opts[0], opts[1]))"
   ]
  },
  {
   "cell_type": "code",
   "execution_count": 9,
   "metadata": {},
   "outputs": [
    {
     "data": {
      "image/png": "[encoded data removed]",
      "text/plain": [
       "<Figure size 576x432 with 1 Axes>"
      ]
     },
     "metadata": {
      "needs_background": "light"
     },
     "output_type": "display_data"
    }
   ],
   "source": [
    "xs = np.linspace(0, 1, 100)\n",
    "ys = opts[1] * np.exp(opts[0] * xs)\n",
    "plt.figure(figsize=(8, 6))\n",
    "plt.plot(xs, ys, c=\"red\", label=\"prediced line\")\n",
    "plt.plot(xn, yn, \"b.\", label=\"data points\")\n",
    "plt.legend(fontsize=14)\n",
    "plt.show()"
   ]
  },
  {
   "cell_type": "code",
   "execution_count": null,
   "metadata": {},
   "outputs": [],
   "source": []
  }
 ],
 "metadata": {
  "kernelspec": {
   "display_name": "Python 3",
   "language": "python",
   "name": "python3"
  },
  "language_info": {
   "codemirror_mode": {
    "name": "ipython",
    "version": 3
   },
   "file_extension": ".py",
   "mimetype": "text/x-python",
   "name": "python",
   "nbconvert_exporter": "python",
   "pygments_lexer": "ipython3",
   "version": "3.7.3"
  }
 },
 "nbformat": 4,
 "nbformat_minor": 2
}
