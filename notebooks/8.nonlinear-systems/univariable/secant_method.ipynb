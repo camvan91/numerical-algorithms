{
 "cells": [
  {
   "cell_type": "code",
   "execution_count": 1,
   "metadata": {},
   "outputs": [],
   "source": [
    "import numpy as np\n",
    "import matplotlib.pyplot as plt"
   ]
  },
  {
   "cell_type": "markdown",
   "metadata": {},
   "source": [
    "## $f(x)=cos(x)-x$, find its root"
   ]
  },
  {
   "cell_type": "code",
   "execution_count": 3,
   "metadata": {},
   "outputs": [],
   "source": [
    "f = lambda x: np.cos(x) - x"
   ]
  },
  {
   "cell_type": "markdown",
   "metadata": {},
   "source": [
    "## Secant Method"
   ]
  },
  {
   "cell_type": "markdown",
   "metadata": {},
   "source": [
    "### From Scratch"
   ]
  },
  {
   "cell_type": "code",
   "execution_count": 4,
   "metadata": {},
   "outputs": [],
   "source": [
    "#secant method:\n",
    "def secant_method(f, x0, x1, tol=1e-10, num_iter=1000):\n",
    "    x = []\n",
    "    x.append(x0)\n",
    "    x.append(x1)\n",
    "    difference = 1\n",
    "    for k in range(1, num_iter):\n",
    "        x.append(x[k] - (f(x[k])*(x[k]-x[k-1])) / (f(x[k])-f(x[k-1])))\n",
    "        if abs(f(x[k+1])) < tol:\n",
    "            print(\"the number of iteration: \", k)\n",
    "            break\n",
    "    return x[-1], x"
   ]
  },
  {
   "cell_type": "code",
   "execution_count": 5,
   "metadata": {},
   "outputs": [
    {
     "name": "stdout",
     "output_type": "stream",
     "text": [
      "the number of iteration:  8\n"
     ]
    },
    {
     "data": {
      "text/plain": [
       "0.7390851331642223"
      ]
     },
     "execution_count": 5,
     "metadata": {},
     "output_type": "execute_result"
    }
   ],
   "source": [
    "root, root_n = secant_method(f, -3, 3)\n",
    "root"
   ]
  },
  {
   "cell_type": "code",
   "execution_count": 6,
   "metadata": {},
   "outputs": [
    {
     "data": {
      "text/plain": [
       "[-3,\n",
       " 3,\n",
       " -0.9899924966004452,\n",
       " 0.12046331524804565,\n",
       " 1.5740060058878784,\n",
       " 0.638082249488753,\n",
       " 0.7267972642003586,\n",
       " 0.7393758311598101,\n",
       " 0.7390843395099966,\n",
       " 0.7390851331642223]"
      ]
     },
     "execution_count": 6,
     "metadata": {},
     "output_type": "execute_result"
    }
   ],
   "source": [
    "root_n"
   ]
  },
  {
   "cell_type": "code",
   "execution_count": 7,
   "metadata": {},
   "outputs": [
    {
     "data": {
      "image/png": "[encoded data removed]",
      "text/plain": [
       "<Figure size 576x576 with 1 Axes>"
      ]
     },
     "metadata": {
      "needs_background": "light"
     },
     "output_type": "display_data"
    }
   ],
   "source": [
    "xn = np.linspace(-3, 3, 100)\n",
    "plt.figure(figsize=(8, 8))\n",
    "plt.plot(xn, f(xn), label=\"$f(x)$\")\n",
    "plt.scatter(root_n, f(root_n), c='g', zorder=5, label=\"iteration root\")\n",
    "plt.scatter(root, f(root), c='r', marker='*', s=100, zorder=10, label=\"root\")\n",
    "plt.hlines(0, -3, 3, linestyles='--', alpha=0.5)\n",
    "plt.legend(fontsize=14)\n",
    "plt.show()"
   ]
  },
  {
   "cell_type": "markdown",
   "metadata": {},
   "source": [
    "### Using `Scipy`"
   ]
  },
  {
   "cell_type": "code",
   "execution_count": 12,
   "metadata": {},
   "outputs": [
    {
     "data": {
      "text/plain": [
       "0.739085133215152"
      ]
     },
     "execution_count": 12,
     "metadata": {},
     "output_type": "execute_result"
    }
   ],
   "source": [
    "import scipy.optimize as optimize\n",
    "\n",
    "f = lambda x: np.cos(x) - x\n",
    "optimize.newton(f, 5)"
   ]
  }
 ],
 "metadata": {
  "kernelspec": {
   "display_name": "Python 3",
   "language": "python",
   "name": "python3"
  },
  "language_info": {
   "codemirror_mode": {
    "name": "ipython",
    "version": 3
   },
   "file_extension": ".py",
   "mimetype": "text/x-python",
   "name": "python",
   "nbconvert_exporter": "python",
   "pygments_lexer": "ipython3",
   "version": "3.6.8"
  }
 },
 "nbformat": 4,
 "nbformat_minor": 2
}
