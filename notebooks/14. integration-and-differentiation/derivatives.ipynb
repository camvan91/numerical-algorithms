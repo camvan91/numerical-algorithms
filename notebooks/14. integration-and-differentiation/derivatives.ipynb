{
 "cells": [
  {
   "cell_type": "markdown",
   "metadata": {},
   "source": [
    "### Compute the derivatives of the following functions:\n",
    "\n",
    "1. $f(x)=\\cos x$ on $x=0,1,2$\n",
    "2. $f(x)= 3x^3+2x+1$ on $x=0,1,2$"
   ]
  },
  {
   "cell_type": "code",
   "execution_count": 30,
   "metadata": {},
   "outputs": [],
   "source": [
    "import numpy as np\n",
    "\n",
    "f1 = lambda x: np.cos(x)\n",
    "f2 = lambda x: 1 + 2*x + 3*x**3"
   ]
  },
  {
   "cell_type": "code",
   "execution_count": 7,
   "metadata": {},
   "outputs": [],
   "source": [
    "def deri(f):\n",
    "    def ratio(x, h=1e-10):\n",
    "        return (f(x+h) - f(x)) / h\n",
    "    return ratio"
   ]
  },
  {
   "cell_type": "code",
   "execution_count": 8,
   "metadata": {},
   "outputs": [
    {
     "name": "stdout",
     "output_type": "stream",
     "text": [
      "[ 0.         -0.84147023 -0.90929708]\n",
      "[ 2.00000017 11.00000091 38.00000314]\n"
     ]
    }
   ],
   "source": [
    "x = np.array([0, 1, 2])\n",
    "print(deri(f1)(x))\n",
    "print(deri(f2)(x))"
   ]
  },
  {
   "cell_type": "markdown",
   "metadata": {},
   "source": [
    "### Symbolic Differentiation"
   ]
  },
  {
   "cell_type": "code",
   "execution_count": 38,
   "metadata": {},
   "outputs": [
    {
     "data": {
      "text/latex": [
       "$\\displaystyle - \\sin{\\left(x \\right)}$"
      ],
      "text/plain": [
       "-sin(x)"
      ]
     },
     "execution_count": 38,
     "metadata": {},
     "output_type": "execute_result"
    }
   ],
   "source": [
    "import sympy \n",
    "\n",
    "x = sympy.Symbol('x')\n",
    "f1_sym = sympy.cos(x)\n",
    "f1_der = f1_sym.diff(x)\n",
    "f1_der"
   ]
  },
  {
   "cell_type": "code",
   "execution_count": 42,
   "metadata": {},
   "outputs": [
    {
     "data": {
      "text/plain": [
       "(0.0, -0.8414709848078965, -0.9092974268256817)"
      ]
     },
     "execution_count": 42,
     "metadata": {},
     "output_type": "execute_result"
    }
   ],
   "source": [
    "float(f1_der.subs(x, 0)), float(f1_der.subs(x, 1)), float(f1_der.subs(x, 2))"
   ]
  },
  {
   "cell_type": "code",
   "execution_count": 43,
   "metadata": {},
   "outputs": [
    {
     "data": {
      "text/latex": [
       "$\\displaystyle 9 x^{2} + 2$"
      ],
      "text/plain": [
       "9*x**2 + 2"
      ]
     },
     "execution_count": 43,
     "metadata": {},
     "output_type": "execute_result"
    }
   ],
   "source": [
    "f2_sym = 3 * x**3 + 2*x + 1\n",
    "f2_der = f2_sym.diff(x)\n",
    "f2_der"
   ]
  },
  {
   "cell_type": "code",
   "execution_count": 44,
   "metadata": {},
   "outputs": [
    {
     "data": {
      "text/plain": [
       "(2.0, 11.0, 38.0)"
      ]
     },
     "execution_count": 44,
     "metadata": {},
     "output_type": "execute_result"
    }
   ],
   "source": [
    "float(f2_der.subs(x, 0)), float(f2_der.subs(x, 1)), float(f2_der.subs(x, 2))"
   ]
  },
  {
   "cell_type": "markdown",
   "metadata": {},
   "source": [
    "### Rchardson"
   ]
  },
  {
   "cell_type": "code",
   "execution_count": 45,
   "metadata": {},
   "outputs": [],
   "source": [
    "def richardson(f, x, n, h):\n",
    "    d = np.array([[0] * (n + 1)] * (n + 1)).astype(float)\n",
    "\n",
    "    for i in range(n + 1):\n",
    "        d[i,0] = 0.5 * ( f(x + h) - f(x - h) ) / h\n",
    "\n",
    "        powerOf4 = 1 \n",
    "        for j in range(1, i + 1):\n",
    "            powerOf4 = 4 * powerOf4\n",
    "            d[i,j] = d[i,j-1] + (d[i,j-1] - d[i-1,j-1]) / (powerOf4 - 1)\n",
    "\n",
    "        h = 0.5 * h\n",
    "\n",
    "    return d[-1, -1]"
   ]
  },
  {
   "cell_type": "code",
   "execution_count": 51,
   "metadata": {},
   "outputs": [
    {
     "data": {
      "text/plain": [
       "(0.0, -0.8414709848078961, -0.9092974268256809)"
      ]
     },
     "execution_count": 51,
     "metadata": {},
     "output_type": "execute_result"
    }
   ],
   "source": [
    "richardson(f1, 0, 5, 2), richardson(f1, 1, 5, 2), richardson(f1, 2, 5, 2)"
   ]
  },
  {
   "cell_type": "code",
   "execution_count": 52,
   "metadata": {},
   "outputs": [
    {
     "data": {
      "text/plain": [
       "(2.0, 11.0, 38.0)"
      ]
     },
     "execution_count": 52,
     "metadata": {},
     "output_type": "execute_result"
    }
   ],
   "source": [
    "richardson(f2, 0, 5, 2), richardson(f2, 1, 5, 2), richardson(f2, 2, 5, 2)"
   ]
  },
  {
   "cell_type": "code",
   "execution_count": null,
   "metadata": {},
   "outputs": [],
   "source": []
  }
 ],
 "metadata": {
  "kernelspec": {
   "display_name": "Python 3",
   "language": "python",
   "name": "python3"
  },
  "language_info": {
   "codemirror_mode": {
    "name": "ipython",
    "version": 3
   },
   "file_extension": ".py",
   "mimetype": "text/x-python",
   "name": "python",
   "nbconvert_exporter": "python",
   "pygments_lexer": "ipython3",
   "version": "3.7.3"
  }
 },
 "nbformat": 4,
 "nbformat_minor": 2
}
