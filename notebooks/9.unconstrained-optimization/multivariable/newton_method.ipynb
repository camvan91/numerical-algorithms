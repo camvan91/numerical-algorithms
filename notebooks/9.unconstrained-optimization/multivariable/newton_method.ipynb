{
 "cells": [
  {
   "cell_type": "code",
   "execution_count": 1,
   "metadata": {},
   "outputs": [],
   "source": [
    "import numpy as np\n",
    "import ipyvolume.pylab as plt3d"
   ]
  },
  {
   "cell_type": "markdown",
   "metadata": {},
   "source": [
    "## $f(x,y)=(x-4)^2+(y-1)^2+100$, finding its minimal values"
   ]
  },
  {
   "cell_type": "code",
   "execution_count": 2,
   "metadata": {},
   "outputs": [
    {
     "data": {
      "application/vnd.jupyter.widget-view+json": {
       "model_id": "c335efe8a64247f2bc84e407313655f9",
       "version_major": 2,
       "version_minor": 0
      },
      "text/plain": [
       "VBox(children=(Figure(camera=PerspectiveCamera(fov=46.0, position=(0.0, 0.0, 2.0), quaternion=(0.0, 0.0, 0.0, …"
      ]
     },
     "metadata": {},
     "output_type": "display_data"
    }
   ],
   "source": [
    "X = np.linspace(-5, 10, 100)  \n",
    "Y = np.linspace(-5, 10, 100)  \n",
    "X, Y = np.meshgrid(X, Y) \n",
    "Z = (X - 4)**2 + (Y - 1)**2 + 100\n",
    "\n",
    "plt3d.figure()\n",
    "plt3d.plot_surface(X, Z, Y, color=\"green\")\n",
    "plt3d.zlabel(\"y\")\n",
    "plt3d.ylabel(\"z\")\n",
    "plt3d.show()"
   ]
  },
  {
   "cell_type": "markdown",
   "metadata": {},
   "source": [
    "## Newton Method"
   ]
  },
  {
   "cell_type": "markdown",
   "metadata": {},
   "source": [
    "### From Scratch"
   ]
  },
  {
   "cell_type": "code",
   "execution_count": 3,
   "metadata": {},
   "outputs": [],
   "source": [
    "def newton_method(f, x0, f_grad, f_hess, tol=1e-10):\n",
    "    x = np.zeros([200, 2])\n",
    "    x[0] = x0\n",
    "    for k in range(199):\n",
    "        x[k+1] = x[k] - f_grad(x[k]).dot(np.linalg.inv(f_hess(x[k])))\n",
    "        if  np.linalg.norm(f_grad(x[k+1])) < tol:\n",
    "            print(\"The number of iteration: {}\".format(k + 1))\n",
    "            break\n",
    "    return x[k+1], x[0:k+2]"
   ]
  },
  {
   "cell_type": "code",
   "execution_count": 4,
   "metadata": {},
   "outputs": [],
   "source": [
    "def newton_method_gamma(f, x0, f_grad, f_hess, tol=1e-10):\n",
    "    x = np.zeros([500, 2])\n",
    "    x[0] = x0\n",
    "    gamma = 0.1\n",
    "    for k in range(499):\n",
    "        x[k+1] = x[k] - gamma * f_grad(x[k]).dot(np.linalg.inv(f_hess(x[k])))\n",
    "        if  np.linalg.norm(f_grad(x[k+1])) < tol:\n",
    "            print(\"The number of iteration: {}\".format(k + 1))\n",
    "            break\n",
    "    return x[k+1], x[0:k+2]"
   ]
  },
  {
   "cell_type": "code",
   "execution_count": 6,
   "metadata": {},
   "outputs": [],
   "source": [
    "import sympy\n",
    "\n",
    "x, y = sympy.symbols(\"x, y\")\n",
    "f_sym = (x - 4)**2 + (y-1)**2 + 100\n",
    "f_mat = sympy.Matrix([f_sym])\n",
    "f_grad_sym = f_mat.jacobian([x, y])\n",
    "f_hess_sym = f_grad_sym.jacobian([x, y])\n",
    "\n",
    "f_lamb = sympy.lambdify((x, y), f_sym, 'numpy')\n",
    "fgrad_lamb = sympy.lambdify((x, y), f_grad_sym, 'numpy')\n",
    "fhess_lamb = sympy.lambdify((x, y), f_hess_sym, 'numpy')"
   ]
  },
  {
   "cell_type": "code",
   "execution_count": 7,
   "metadata": {},
   "outputs": [],
   "source": [
    "def func_XY_to_X_Y(f):\n",
    "    return lambda X: np.array(f(X[0], X[1]))"
   ]
  },
  {
   "cell_type": "code",
   "execution_count": 8,
   "metadata": {},
   "outputs": [],
   "source": [
    "f = func_XY_to_X_Y(f_lamb)\n",
    "f_grad = func_XY_to_X_Y(fgrad_lamb)\n",
    "f_hess = func_XY_to_X_Y(fhess_lamb)"
   ]
  },
  {
   "cell_type": "code",
   "execution_count": 9,
   "metadata": {},
   "outputs": [
    {
     "name": "stdout",
     "output_type": "stream",
     "text": [
      "The number of iteration: 1\n"
     ]
    },
    {
     "data": {
      "text/plain": [
       "(array([4., 1.]), array([[0., 0.],\n",
       "        [4., 1.]]))"
      ]
     },
     "execution_count": 9,
     "metadata": {},
     "output_type": "execute_result"
    }
   ],
   "source": [
    "mini, minis = newton_method(f, np.array([0, 0]), f_grad, f_hess)\n",
    "mini, minis"
   ]
  },
  {
   "cell_type": "code",
   "execution_count": 10,
   "metadata": {},
   "outputs": [
    {
     "name": "stdout",
     "output_type": "stream",
     "text": [
      "The number of iteration: 247\n"
     ]
    },
    {
     "data": {
      "text/plain": [
       "array([4., 1.])"
      ]
     },
     "execution_count": 10,
     "metadata": {},
     "output_type": "execute_result"
    }
   ],
   "source": [
    "mini1, minis1 = newton_method_gamma(f, np.array([-5, 5]), f_grad, f_hess)\n",
    "mini1"
   ]
  },
  {
   "cell_type": "code",
   "execution_count": 11,
   "metadata": {},
   "outputs": [
    {
     "data": {
      "application/vnd.jupyter.widget-view+json": {
       "model_id": "ee656d7ca7d04ce192eed30cbe7b854a",
       "version_major": 2,
       "version_minor": 0
      },
      "text/plain": [
       "VBox(children=(Figure(camera=PerspectiveCamera(fov=46.0, position=(0.0, 0.0, 2.0), quaternion=(0.0, 0.0, 0.0, …"
      ]
     },
     "metadata": {},
     "output_type": "display_data"
    }
   ],
   "source": [
    "plt3d.figure()\n",
    "plt3d.plot_surface(X, Z, Y, color=\"green\")\n",
    "for i, m in enumerate(minis1):\n",
    "    if i == len(minis1)-1:\n",
    "        plt3d.scatter(np.array([mini1[0]]), np.array([f(mini1)]), np.array([mini1[1]]), \n",
    "                 size=3, marker=\"diamond\", color='red')\n",
    "        break\n",
    "    plt3d.scatter(np.array([m[0]]), np.array([f(m)]), np.array([m[1]]), \n",
    "                 size=2, marker=\"sphere\", color='blue')\n",
    "    \n",
    "plt3d.zlabel(\"y\")\n",
    "plt3d.ylabel(\"z\")\n",
    "plt3d.show()"
   ]
  },
  {
   "cell_type": "code",
   "execution_count": 12,
   "metadata": {},
   "outputs": [
    {
     "name": "stdout",
     "output_type": "stream",
     "text": [
      "The number of iteration: 248\n"
     ]
    },
    {
     "data": {
      "text/plain": [
       "array([4., 1.])"
      ]
     },
     "execution_count": 12,
     "metadata": {},
     "output_type": "execute_result"
    }
   ],
   "source": [
    "mini2, minis2 = newton_method_gamma(f, np.array([-5, -5]), f_grad, f_hess)\n",
    "mini2"
   ]
  },
  {
   "cell_type": "code",
   "execution_count": 13,
   "metadata": {},
   "outputs": [
    {
     "name": "stdout",
     "output_type": "stream",
     "text": [
      "The number of iteration: 239\n"
     ]
    },
    {
     "data": {
      "text/plain": [
       "array([4., 1.])"
      ]
     },
     "execution_count": 13,
     "metadata": {},
     "output_type": "execute_result"
    }
   ],
   "source": [
    "mini3, minis3 = newton_method_gamma(f, np.array([5, 5]), f_grad, f_hess)\n",
    "mini3"
   ]
  },
  {
   "cell_type": "code",
   "execution_count": 14,
   "metadata": {},
   "outputs": [
    {
     "name": "stdout",
     "output_type": "stream",
     "text": [
      "The number of iteration: 243\n"
     ]
    },
    {
     "data": {
      "text/plain": [
       "array([4., 1.])"
      ]
     },
     "execution_count": 14,
     "metadata": {},
     "output_type": "execute_result"
    }
   ],
   "source": [
    "mini4, minis4 = newton_method_gamma(f, np.array([5, -5]), f_grad, f_hess)\n",
    "mini4"
   ]
  },
  {
   "cell_type": "code",
   "execution_count": 15,
   "metadata": {},
   "outputs": [
    {
     "data": {
      "application/vnd.jupyter.widget-view+json": {
       "model_id": "671c0383352a4b2baf85a5aeb7c55b1e",
       "version_major": 2,
       "version_minor": 0
      },
      "text/plain": [
       "VBox(children=(Figure(camera=PerspectiveCamera(fov=46.0, position=(0.0, 0.0, 2.0), quaternion=(0.0, 0.0, 0.0, …"
      ]
     },
     "metadata": {},
     "output_type": "display_data"
    }
   ],
   "source": [
    "plt3d.clear()\n",
    "plt3d.figure()\n",
    "plt3d.plot_surface(X, Z, Y, color=\"green\")\n",
    "for i, m in enumerate(minis1):\n",
    "    if i == len(minis1)-1:\n",
    "        plt3d.scatter(np.array([mini1[0]]), np.array([f(mini1)]), np.array([mini1[1]]), \n",
    "                 size=3, marker=\"diamond\", color='red')\n",
    "        break\n",
    "    plt3d.scatter(np.array([m[0]]), np.array([f(m)]), np.array([m[1]]), \n",
    "                 size=2, marker=\"sphere\", color='blue')\n",
    "\n",
    "for i, m in enumerate(minis2):\n",
    "    if i == len(minis2)-1:\n",
    "        plt3d.scatter(np.array([mini2[0]]), np.array([f(mini2)]), np.array([mini2[1]]), \n",
    "                 size=3, marker=\"diamond\", color='red')\n",
    "        break\n",
    "    plt3d.scatter(np.array([m[0]]), np.array([f(m)]), np.array([m[1]]), \n",
    "                 size=2, marker=\"sphere\", color='yellow')\n",
    "\n",
    "for i, m in enumerate(minis3):\n",
    "    if i == len(minis3)-1:\n",
    "        plt3d.scatter(np.array([mini3[0]]), np.array([f(mini3)]), np.array([mini3[1]]), \n",
    "                 size=3, marker=\"diamond\", color='red')\n",
    "        break\n",
    "    plt3d.scatter(np.array([m[0]]), np.array([f(m)]), np.array([m[1]]), \n",
    "                 size=2, marker=\"sphere\", color='black')\n",
    "    \n",
    "for i, m in enumerate(minis4):\n",
    "    if i == len(minis4)-1:\n",
    "        plt3d.scatter(np.array([mini4[0]]), np.array([f(mini4)]), np.array([mini4[1]]), \n",
    "                 size=3, marker=\"diamond\", color='red')\n",
    "        break\n",
    "    plt3d.scatter(np.array([m[0]]), np.array([f(m)]), np.array([m[1]]), \n",
    "                 size=2, marker=\"sphere\", color='purple')\n",
    "    \n",
    "plt3d.zlabel(\"y\")\n",
    "plt3d.ylabel(\"z\")\n",
    "plt3d.show()"
   ]
  },
  {
   "cell_type": "code",
   "execution_count": 30,
   "metadata": {},
   "outputs": [
    {
     "data": {
      "image/png": "[encoded data removed]",
      "text/plain": [
       "<Figure size 720x720 with 1 Axes>"
      ]
     },
     "metadata": {},
     "output_type": "display_data"
    }
   ],
   "source": [
    "import matplotlib.pyplot as plt\n",
    "\n",
    "plt.figure(figsize=(10, 10))\n",
    "plt.contour(X, Y, Z)\n",
    "for i, mini in enumerate(minis1):\n",
    "    if i == len(minis1)-1:\n",
    "        plt.scatter(mini[0], mini[1], c='red', marker=\"*\", s=150)\n",
    "        break\n",
    "    plt.scatter(mini[0], mini[1], c='blue')\n",
    "    \n",
    "for i, mini in enumerate(minis2):\n",
    "    if i == len(minis2)-1:\n",
    "        plt.scatter(mini[0], mini[1], c='red', marker=\"*\", s=150)\n",
    "        break\n",
    "    plt.scatter(mini[0], mini[1], c='yellow')\n",
    "    \n",
    "for i, mini in enumerate(minis3):\n",
    "    if i == len(minis3)-1:\n",
    "        plt.scatter(mini[0], mini[1], c='red', marker=\"*\", s=150)\n",
    "        break\n",
    "    plt.scatter(mini[0], mini[1], c='black')\n",
    "    \n",
    "for i, mini in enumerate(minis4):\n",
    "    if i == len(minis4)-1:\n",
    "        plt.scatter(mini[0], mini[1], c='red', marker=\"*\", s=150)\n",
    "        break\n",
    "    plt.scatter(mini[0], mini[1], c='purple')\n",
    "\n",
    "plt.show()"
   ]
  },
  {
   "cell_type": "markdown",
   "metadata": {},
   "source": [
    "### Using `Scipy`"
   ]
  },
  {
   "cell_type": "code",
   "execution_count": 11,
   "metadata": {},
   "outputs": [
    {
     "data": {
      "text/plain": [
       "      fun: 100.0000000000097\n",
       " hess_inv: array([[ 0.52941204, -0.11764756],\n",
       "       [-0.11764756,  0.97058797]])\n",
       "      jac: array([ 9.53674316e-07, -5.72204590e-06])\n",
       "  message: 'Optimization terminated successfully.'\n",
       "     nfev: 16\n",
       "      nit: 3\n",
       "     njev: 4\n",
       "   status: 0\n",
       "  success: True\n",
       "        x: array([4.00000067, 0.99999696])"
      ]
     },
     "execution_count": 11,
     "metadata": {},
     "output_type": "execute_result"
    }
   ],
   "source": [
    "from scipy import optimize\n",
    "\n",
    "x_opt = optimize.minimize(f, (0, 0))\n",
    "x_opt"
   ]
  }
 ],
 "metadata": {
  "kernelspec": {
   "display_name": "Python 3",
   "language": "python",
   "name": "python3"
  },
  "language_info": {
   "codemirror_mode": {
    "name": "ipython",
    "version": 3
   },
   "file_extension": ".py",
   "mimetype": "text/x-python",
   "name": "python",
   "nbconvert_exporter": "python",
   "pygments_lexer": "ipython3",
   "version": "3.6.8"
  }
 },
 "nbformat": 4,
 "nbformat_minor": 2
}
