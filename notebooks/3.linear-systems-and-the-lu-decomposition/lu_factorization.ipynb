{
 "cells": [
  {
   "cell_type": "code",
   "execution_count": 12,
   "metadata": {},
   "outputs": [],
   "source": [
    "import numpy as np\n",
    "import scipy.linalg"
   ]
  },
  {
   "cell_type": "markdown",
   "metadata": {},
   "source": [
    "### $A=\\left[\\begin{matrix}1 & -2 & 1\\\\0 & 2 & -8\\\\5 & 0 & -5\\end{matrix}\\right]$"
   ]
  },
  {
   "cell_type": "code",
   "execution_count": 13,
   "metadata": {},
   "outputs": [
    {
     "data": {
      "text/plain": [
       "array([[ 1, -2,  1],\n",
       "       [ 0,  2, -8],\n",
       "       [ 5,  0, -5]])"
      ]
     },
     "execution_count": 13,
     "metadata": {},
     "output_type": "execute_result"
    }
   ],
   "source": [
    "A = np.array([[1,-2, 1], [0, 2, -8], [5, 0, -5]])\n",
    "A"
   ]
  },
  {
   "cell_type": "markdown",
   "metadata": {},
   "source": [
    "## LU Factorization"
   ]
  },
  {
   "cell_type": "markdown",
   "metadata": {},
   "source": [
    "### From Scratch"
   ]
  },
  {
   "cell_type": "code",
   "execution_count": 14,
   "metadata": {},
   "outputs": [],
   "source": [
    "def pivoting(A):\n",
    "    n = A.shape[0]\n",
    "    P = np.identity(n)\n",
    "\n",
    "    for j in range(n):\n",
    "        row = max(range(j, n), key=lambda i: abs(A[i][j]))\n",
    "        if j != row:\n",
    "            P[[j, row]] = P[[row, j]]\n",
    "    return P"
   ]
  },
  {
   "cell_type": "code",
   "execution_count": 15,
   "metadata": {},
   "outputs": [],
   "source": [
    "def LUPivot_Factorization(A):\n",
    "    n = A.shape[0]\n",
    "    L = np.zeros([n, n])\n",
    "\n",
    "    P = pivoting(A)\n",
    "    PA = np.dot(P, A)\n",
    "    \n",
    "    for j in range(n):\n",
    "        L[j, j] = 1\n",
    "        for i in range(j+1, n):\n",
    "            s = PA[i, j] / PA[j, j]\n",
    "            PA[i] = s * PA[j] - PA[i]\n",
    "            L[i, j] = s\n",
    "    \n",
    "    U = PA\n",
    "    return P, L, U"
   ]
  },
  {
   "cell_type": "code",
   "execution_count": 16,
   "metadata": {},
   "outputs": [
    {
     "name": "stdout",
     "output_type": "stream",
     "text": [
      "P:[[0. 0. 1.]\n",
      " [0. 1. 0.]\n",
      " [1. 0. 0.]]\n",
      "\n",
      "L:[[ 1.   0.   0. ]\n",
      " [ 0.   1.   0. ]\n",
      " [ 0.2 -1.   1. ]]\n",
      "\n",
      "U:[[ 5.  0. -5.]\n",
      " [ 0. -2.  8.]\n",
      " [-0.  0. -6.]]\n"
     ]
    }
   ],
   "source": [
    "p, l, u = LUPivot_Factorization(A)\n",
    "print(\"P:{}\\n\".format(p))\n",
    "print(\"L:{}\\n\".format(l))\n",
    "print(\"U:{}\".format(u))"
   ]
  },
  {
   "cell_type": "markdown",
   "metadata": {},
   "source": [
    "### Using `Numpy`"
   ]
  },
  {
   "cell_type": "code",
   "execution_count": 17,
   "metadata": {
    "scrolled": true
   },
   "outputs": [
    {
     "name": "stdout",
     "output_type": "stream",
     "text": [
      "P:\n",
      " [[0. 0. 1.]\n",
      " [0. 1. 0.]\n",
      " [1. 0. 0.]]\n",
      "L:\n",
      " [[ 1.   0.   0. ]\n",
      " [ 0.   1.   0. ]\n",
      " [ 0.2 -1.   1. ]]\n",
      "U:\n",
      " [[ 5.  0. -5.]\n",
      " [ 0.  2. -8.]\n",
      " [ 0.  0. -6.]]\n"
     ]
    }
   ],
   "source": [
    "p, l, u = scipy.linalg.lu(A)\n",
    "print(\"P:\\n {}\".format(p))\n",
    "print(\"L:\\n {}\".format(l))\n",
    "print(\"U:\\n {}\".format(u))"
   ]
  },
  {
   "cell_type": "code",
   "execution_count": 18,
   "metadata": {},
   "outputs": [
    {
     "data": {
      "text/plain": [
       "True"
      ]
     },
     "execution_count": 18,
     "metadata": {},
     "output_type": "execute_result"
    }
   ],
   "source": [
    "# validation\n",
    "np.allclose(p @ l @ u, A)"
   ]
  },
  {
   "cell_type": "markdown",
   "metadata": {},
   "source": [
    "## Using the Factorization for Solving $Ax=b$\n",
    "### $A=\\left[\\begin{matrix}1 & -2 & 1\\\\0 & 2 & -8\\\\5 & 0 & -5\\end{matrix}\\right]$,  $b=\\left[\\begin{matrix}0\\\\8\\\\10\\end{matrix}\\right]$"
   ]
  },
  {
   "cell_type": "markdown",
   "metadata": {},
   "source": [
    "### From Scratch"
   ]
  },
  {
   "cell_type": "code",
   "execution_count": 19,
   "metadata": {},
   "outputs": [],
   "source": [
    "def forward_substitution(L, b):\n",
    "    b = np.rot90(b.T)\n",
    "    n = len(L)\n",
    "    y = np.zeros(n)\n",
    "    y[0] = b[0]\n",
    "    for k in range(1, n):\n",
    "        y[k] = b[k] - L[k, 0:k] @ y[0:k]\n",
    "    return y"
   ]
  },
  {
   "cell_type": "code",
   "execution_count": 20,
   "metadata": {},
   "outputs": [],
   "source": [
    "def back_substitution(U, b):\n",
    "    n = len(U)\n",
    "    x = np.zeros(n)\n",
    "    G = np.c_[U, y]\n",
    "    x[n-1] = G[n-1, n] / G[n-1, n-1]\n",
    "    \n",
    "    for k in range(n-1, -1, -1):\n",
    "        x[k] = (G[k, n] - np.dot(G[k, k+1:n], x[k+1:n])) / G[k, k]\n",
    "    return x"
   ]
  },
  {
   "cell_type": "code",
   "execution_count": 21,
   "metadata": {},
   "outputs": [
    {
     "data": {
      "text/plain": [
       "array([ 1.,  0., -1.])"
      ]
     },
     "execution_count": 21,
     "metadata": {},
     "output_type": "execute_result"
    }
   ],
   "source": [
    "b = np.array([[0], [8], [10]])\n",
    "_, L, U = scipy.linalg.lu(A)\n",
    "y = forward_substitution(L, b)\n",
    "back_substitution(U, y)"
   ]
  },
  {
   "cell_type": "markdown",
   "metadata": {},
   "source": [
    "### Using `Numpy`"
   ]
  },
  {
   "cell_type": "code",
   "execution_count": 22,
   "metadata": {},
   "outputs": [
    {
     "data": {
      "text/plain": [
       "array([[ 1.],\n",
       "       [ 0.],\n",
       "       [-1.]])"
      ]
     },
     "execution_count": 22,
     "metadata": {},
     "output_type": "execute_result"
    }
   ],
   "source": [
    "x = np.linalg.solve(A, b)\n",
    "x"
   ]
  }
 ],
 "metadata": {
  "kernelspec": {
   "display_name": "Python 3",
   "language": "python",
   "name": "python3"
  },
  "language_info": {
   "codemirror_mode": {
    "name": "ipython",
    "version": 3
   },
   "file_extension": ".py",
   "mimetype": "text/x-python",
   "name": "python",
   "nbconvert_exporter": "python",
   "pygments_lexer": "ipython3",
   "version": "3.6.8"
  }
 },
 "nbformat": 4,
 "nbformat_minor": 2
}
