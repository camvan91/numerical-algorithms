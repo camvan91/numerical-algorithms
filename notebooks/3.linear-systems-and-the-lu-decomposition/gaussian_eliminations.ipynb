{
 "cells": [
  {
   "cell_type": "code",
   "execution_count": 1,
   "metadata": {},
   "outputs": [],
   "source": [
    "import numpy as np"
   ]
  },
  {
   "cell_type": "markdown",
   "metadata": {},
   "source": [
    "### $P_{49}$\n",
    "### $\\left[\\begin{matrix}0 & 1 & -1\\\\3 & -1 & 1\\\\1 & 1 & -2\\end{matrix}\\right]\\left [ \\begin{matrix} x_1 \\\\ x_2 \\\\ x_3 \\end{matrix}\\right] =\\left[\\begin{matrix}-1\\\\4\\\\-3\\end{matrix}\\right]$"
   ]
  },
  {
   "cell_type": "markdown",
   "metadata": {},
   "source": [
    "### From Scratch"
   ]
  },
  {
   "cell_type": "code",
   "execution_count": 4,
   "metadata": {},
   "outputs": [],
   "source": [
    "def GuassianEliminations(A, b):\n",
    "\n",
    "    A = A.astype(\"float\")\n",
    "    b = b.astype(\"float\")\n",
    "    n = A.shape[0]\n",
    "    m = A.shape[1]\n",
    "    if n!= m:\n",
    "        return print(\"This is not a square matrix!\")\n",
    "\n",
    "    # forwards-substitution\n",
    "    G = np.c_[A, b]\n",
    "    for i in range(n):\n",
    "        if G[i, i] == 0:\n",
    "            for j in range(i, n):\n",
    "                if G[j, i] != 0:\n",
    "                    G[[i, j]] = G[[j, i]]\n",
    "\n",
    "        scaling = 1 / G[i, i]\n",
    "        G[i] = scaling * G[i]\n",
    "\n",
    "        for j in range(i, n-1):\n",
    "            G[j+1] = G[j+1, i] * G[i] - G[j+1]\n",
    "    \n",
    "    # backwards-substitution\n",
    "    x = np.zeros(n)\n",
    "    x[n-1] = G[n-1, n] / G[n-1, n-1]\n",
    "    \n",
    "    for k in range(n-1, -1, -1):\n",
    "        x[k] = G[k, n] - np.dot(G[k, k+1:n], x[k+1:n])\n",
    "    return x\n"
   ]
  },
  {
   "cell_type": "code",
   "execution_count": 5,
   "metadata": {},
   "outputs": [
    {
     "data": {
      "text/plain": [
       "array([ 2.66666667, -7.33333333, -7.33333333])"
      ]
     },
     "execution_count": 5,
     "metadata": {},
     "output_type": "execute_result"
    }
   ],
   "source": [
    "A = np.array([[0, 1, -1], [3, -1, 1], [1, 1, -2]])\n",
    "b = np.array([0, 8, 10])\n",
    "x = GuassianEliminations(A, b)\n",
    "x"
   ]
  },
  {
   "cell_type": "markdown",
   "metadata": {},
   "source": [
    "### Using `Numpy`"
   ]
  },
  {
   "cell_type": "code",
   "execution_count": 17,
   "metadata": {},
   "outputs": [
    {
     "data": {
      "text/plain": [
       "array([ 2.66666667, -7.33333333, -7.33333333])"
      ]
     },
     "execution_count": 17,
     "metadata": {},
     "output_type": "execute_result"
    }
   ],
   "source": [
    "np.linalg.solve(A, b)"
   ]
  },
  {
   "cell_type": "code",
   "execution_count": null,
   "metadata": {},
   "outputs": [],
   "source": []
  }
 ],
 "metadata": {
  "kernelspec": {
   "display_name": "Python 3",
   "language": "python",
   "name": "python3"
  },
  "language_info": {
   "codemirror_mode": {
    "name": "ipython",
    "version": 3
   },
   "file_extension": ".py",
   "mimetype": "text/x-python",
   "name": "python",
   "nbconvert_exporter": "python",
   "pygments_lexer": "ipython3",
   "version": "3.6.8"
  }
 },
 "nbformat": 4,
 "nbformat_minor": 2
}
