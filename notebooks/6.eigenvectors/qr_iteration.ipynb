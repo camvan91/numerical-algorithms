{
 "cells": [
  {
   "cell_type": "code",
   "execution_count": 2,
   "metadata": {},
   "outputs": [],
   "source": [
    "import numpy as np"
   ]
  },
  {
   "cell_type": "code",
   "execution_count": 3,
   "metadata": {},
   "outputs": [
    {
     "data": {
      "text/plain": [
       "array([[1.1    , 1.2748 ],\n",
       "       [0.11767, 1.15   ]])"
      ]
     },
     "execution_count": 3,
     "metadata": {},
     "output_type": "execute_result"
    }
   ],
   "source": [
    "A = np.array([[1.1, 1.2748], [0.11767, 1.150]])\n",
    "# A = np.array([[-2, 1, 2], \n",
    "#               [ 5, 3, -7],\n",
    "#               [ 9, -5, 1]])\n",
    "A"
   ]
  },
  {
   "cell_type": "markdown",
   "metadata": {},
   "source": [
    "## QR Iteration"
   ]
  },
  {
   "cell_type": "markdown",
   "metadata": {},
   "source": [
    "### From Scratch"
   ]
  },
  {
   "cell_type": "code",
   "execution_count": 4,
   "metadata": {},
   "outputs": [],
   "source": [
    "def QR_Iteration(A, iter_max=100):\n",
    "    n = len(A)\n",
    "    v = np.ones(n)\n",
    "    eigenvals_lst = []\n",
    "    for i in range(iter_max):\n",
    "        Q, R = np.linalg.qr(A)\n",
    "        A = R @ Q\n",
    "        eigenvals_lst.append(np.diag(A))\n",
    "        if i > 0 and np.linalg.norm(eigenvals_lst[i] - eigenvals_lst[i-1]) < 1e-10:\n",
    "            print(\"The number of iteration: {}\".format(i + 1))\n",
    "            break\n",
    "    return eigenvals_lst"
   ]
  },
  {
   "cell_type": "code",
   "execution_count": 5,
   "metadata": {},
   "outputs": [
    {
     "name": "stdout",
     "output_type": "stream",
     "text": [
      "The number of iteration: 33\n"
     ]
    },
    {
     "data": {
      "text/plain": [
       "array([1.51311173, 0.73688827])"
      ]
     },
     "execution_count": 5,
     "metadata": {},
     "output_type": "execute_result"
    }
   ],
   "source": [
    "eigenvals_lst = QR_Iteration(A)\n",
    "eigenvals = eigenvals_lst[-1]\n",
    "eigenvals"
   ]
  },
  {
   "cell_type": "markdown",
   "metadata": {},
   "source": [
    "### Using `Numpy`"
   ]
  },
  {
   "cell_type": "code",
   "execution_count": 6,
   "metadata": {},
   "outputs": [
    {
     "data": {
      "text/plain": [
       "array([0.73688827, 1.51311173])"
      ]
     },
     "execution_count": 6,
     "metadata": {},
     "output_type": "execute_result"
    }
   ],
   "source": [
    "np.linalg.eigvals(A)"
   ]
  }
 ],
 "metadata": {
  "kernelspec": {
   "display_name": "Python 3",
   "language": "python",
   "name": "python3"
  },
  "language_info": {
   "codemirror_mode": {
    "name": "ipython",
    "version": 3
   },
   "file_extension": ".py",
   "mimetype": "text/x-python",
   "name": "python",
   "nbconvert_exporter": "python",
   "pygments_lexer": "ipython3",
   "version": "3.6.8"
  }
 },
 "nbformat": 4,
 "nbformat_minor": 2
}
