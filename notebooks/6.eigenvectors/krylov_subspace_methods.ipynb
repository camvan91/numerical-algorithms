{
 "cells": [
  {
   "cell_type": "code",
   "execution_count": 23,
   "metadata": {},
   "outputs": [],
   "source": [
    "import numpy as np"
   ]
  },
  {
   "cell_type": "code",
   "execution_count": 30,
   "metadata": {},
   "outputs": [
    {
     "data": {
      "text/plain": [
       "array([[ 4, -2,  4],\n",
       "       [-2,  5, -4],\n",
       "       [ 4, -4, 14]])"
      ]
     },
     "execution_count": 30,
     "metadata": {},
     "output_type": "execute_result"
    }
   ],
   "source": [
    "#A = np.array([[1.1, 1.2748], [0.11767, 1.150]])\n",
    "A = np.array([[4, -2, 4], [-2, 5, -4], [4, -4, 14]])\n",
    "A"
   ]
  },
  {
   "cell_type": "markdown",
   "metadata": {},
   "source": [
    "## Krylov Subspace Methods"
   ]
  },
  {
   "cell_type": "markdown",
   "metadata": {},
   "source": [
    "### From Scratch"
   ]
  },
  {
   "cell_type": "code",
   "execution_count": 34,
   "metadata": {},
   "outputs": [],
   "source": [
    "def ratio(v1, v2):\n",
    "    return v2.dot(v1) / v1.dot(v1)"
   ]
  },
  {
   "cell_type": "code",
   "execution_count": 35,
   "metadata": {},
   "outputs": [],
   "source": [
    "def projection(v1, v2):\n",
    "    return ratio(v1, v2) * v1"
   ]
  },
  {
   "cell_type": "code",
   "execution_count": 39,
   "metadata": {},
   "outputs": [],
   "source": [
    "def krylov_subspace_methods(A, iter_max=100):\n",
    "    n = len(A)\n",
    "    q0 = np.random.ranf(n)\n",
    "    q0 = q0 / np.linalg.norm(q0)\n",
    "    q = []\n",
    "    q.append(q0)\n",
    "    for k in range(iter_max):\n",
    "        ak = A @ q[k]\n",
    "        sum_prj = 0\n",
    "        for h in range(k):\n",
    "            sum_prj += projection(ak, q[h])\n",
    "        bk = ak - sum_prj\n",
    "        q.append(bk / np.linalg.norm(bk))\n",
    "        if (q[k+1] @ q[k]) < 0.0:\n",
    "            q[k+1] = -q[k+1]\n",
    "        if np.linalg.norm(q[k+1] - q[k]) < 1e-6: \n",
    "            print(\"The number of iterations: {}\".format(k + 1))\n",
    "            break\n",
    "    return q"
   ]
  },
  {
   "cell_type": "code",
   "execution_count": 40,
   "metadata": {},
   "outputs": [
    {
     "name": "stdout",
     "output_type": "stream",
     "text": [
      "The number of iterations: 11\n"
     ]
    },
    {
     "data": {
      "text/plain": [
       "array([ 0.32323911, -0.34626045,  0.88069301])"
      ]
     },
     "execution_count": 40,
     "metadata": {},
     "output_type": "execute_result"
    }
   ],
   "source": [
    "eigenvecs_lst = krylov_subspace_methods(A)\n",
    "eigenvec = eigenvecs_lst[-1]\n",
    "eigenvec"
   ]
  },
  {
   "cell_type": "markdown",
   "metadata": {},
   "source": [
    "### Using `Numpy`"
   ]
  },
  {
   "cell_type": "code",
   "execution_count": 43,
   "metadata": {
    "scrolled": true
   },
   "outputs": [
    {
     "data": {
      "text/plain": [
       "2.3255866228655884"
      ]
     },
     "execution_count": 43,
     "metadata": {},
     "output_type": "execute_result"
    }
   ],
   "source": [
    "eig_vals, eig_vecs = np.linalg.eig(A)\n",
    "eig_vals.min()"
   ]
  },
  {
   "cell_type": "code",
   "execution_count": 45,
   "metadata": {},
   "outputs": [
    {
     "data": {
      "text/plain": [
       "array([ 0.32323917, -0.34626061,  0.88069293])"
      ]
     },
     "execution_count": 45,
     "metadata": {},
     "output_type": "execute_result"
    }
   ],
   "source": [
    "eig_vecs[:, np.argmax(eig_vals)]"
   ]
  }
 ],
 "metadata": {
  "kernelspec": {
   "display_name": "Python 3",
   "language": "python",
   "name": "python3"
  },
  "language_info": {
   "codemirror_mode": {
    "name": "ipython",
    "version": 3
   },
   "file_extension": ".py",
   "mimetype": "text/x-python",
   "name": "python",
   "nbconvert_exporter": "python",
   "pygments_lexer": "ipython3",
   "version": "3.6.8"
  }
 },
 "nbformat": 4,
 "nbformat_minor": 2
}
