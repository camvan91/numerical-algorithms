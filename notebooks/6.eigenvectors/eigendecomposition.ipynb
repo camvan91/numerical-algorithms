{
 "cells": [
  {
   "cell_type": "code",
   "execution_count": 2,
   "metadata": {},
   "outputs": [],
   "source": [
    "import numpy as np"
   ]
  },
  {
   "cell_type": "markdown",
   "metadata": {},
   "source": [
    "### $A = QΛQ^{-1}$"
   ]
  },
  {
   "cell_type": "code",
   "execution_count": 54,
   "metadata": {},
   "outputs": [
    {
     "data": {
      "text/plain": [
       "array([[ 4, -2,  4],\n",
       "       [-2,  5, -4],\n",
       "       [ 4, -4, 14]])"
      ]
     },
     "execution_count": 54,
     "metadata": {},
     "output_type": "execute_result"
    }
   ],
   "source": [
    "#A = np.array([[1.1, 1.2748], [0.11767, 1.150]])\n",
    "A = np.array([[4, -2, 4], [-2, 5, -4], [4, -4, 14]])\n",
    "A"
   ]
  },
  {
   "cell_type": "code",
   "execution_count": 55,
   "metadata": {},
   "outputs": [
    {
     "data": {
      "text/plain": [
       "(array([17.04078643,  2.32558662,  3.63362695]),\n",
       " array([[ 0.32323917, -0.8892936 , -0.32353258],\n",
       "        [-0.34626061, -0.42932437,  0.83413678],\n",
       "        [ 0.88069293,  0.15759909,  0.4467018 ]]))"
      ]
     },
     "execution_count": 55,
     "metadata": {},
     "output_type": "execute_result"
    }
   ],
   "source": [
    "eiglvals, eigvshs = np.linalg.eig(A)\n",
    "eiglvals, eigvshs"
   ]
  },
  {
   "cell_type": "code",
   "execution_count": 56,
   "metadata": {},
   "outputs": [
    {
     "data": {
      "text/plain": [
       "array([[ 0.32323917, -0.8892936 , -0.32353258],\n",
       "       [-0.34626061, -0.42932437,  0.83413678],\n",
       "       [ 0.88069293,  0.15759909,  0.4467018 ]])"
      ]
     },
     "execution_count": 56,
     "metadata": {},
     "output_type": "execute_result"
    }
   ],
   "source": [
    "eigvshs"
   ]
  },
  {
   "cell_type": "code",
   "execution_count": 57,
   "metadata": {},
   "outputs": [
    {
     "name": "stdout",
     "output_type": "stream",
     "text": [
      "D:\n",
      " [[17.04078643  0.          0.        ]\n",
      " [ 0.          2.32558662  0.        ]\n",
      " [ 0.          0.          3.63362695]]\n",
      "Q:\n",
      " [[ 0.32323917 -0.8892936  -0.32353258]\n",
      " [-0.34626061 -0.42932437  0.83413678]\n",
      " [ 0.88069293  0.15759909  0.4467018 ]]\n"
     ]
    }
   ],
   "source": [
    "D = np.diag(eiglvals)\n",
    "Q = eigvshs\n",
    "print(\"D:\\n {}\".format(D))\n",
    "print(\"Q:\\n {}\".format(Q))"
   ]
  },
  {
   "cell_type": "code",
   "execution_count": 58,
   "metadata": {},
   "outputs": [
    {
     "data": {
      "text/plain": [
       "True"
      ]
     },
     "execution_count": 58,
     "metadata": {},
     "output_type": "execute_result"
    }
   ],
   "source": [
    "np.allclose(Q @ D @ np.linalg.inv(Q), A)"
   ]
  },
  {
   "cell_type": "code",
   "execution_count": 62,
   "metadata": {},
   "outputs": [
    {
     "data": {
      "text/plain": [
       "True"
      ]
     },
     "execution_count": 62,
     "metadata": {},
     "output_type": "execute_result"
    }
   ],
   "source": [
    "np.allclose(Q @ D @ Q.T, A) # for symmetric positive matix"
   ]
  }
 ],
 "metadata": {
  "kernelspec": {
   "display_name": "Python 3",
   "language": "python",
   "name": "python3"
  },
  "language_info": {
   "codemirror_mode": {
    "name": "ipython",
    "version": 3
   },
   "file_extension": ".py",
   "mimetype": "text/x-python",
   "name": "python",
   "nbconvert_exporter": "python",
   "pygments_lexer": "ipython3",
   "version": "3.6.8"
  }
 },
 "nbformat": 4,
 "nbformat_minor": 2
}
