{
 "cells": [
  {
   "cell_type": "code",
   "execution_count": 2,
   "metadata": {},
   "outputs": [],
   "source": [
    "import numpy as np"
   ]
  },
  {
   "cell_type": "code",
   "execution_count": 16,
   "metadata": {},
   "outputs": [
    {
     "data": {
      "text/plain": [
       "array([[1.1    , 1.2748 ],\n",
       "       [0.11767, 1.15   ]])"
      ]
     },
     "execution_count": 16,
     "metadata": {},
     "output_type": "execute_result"
    }
   ],
   "source": [
    "A = np.array([[1.1, 1.2748], [0.11767, 1.150]])\n",
    "# A = np.array([[-2, 1, 2], \n",
    "#               [ 5, 3, -7],\n",
    "#               [ 9, -5, 1]])\n",
    "A"
   ]
  },
  {
   "cell_type": "markdown",
   "metadata": {},
   "source": [
    "## Projected Iteration"
   ]
  },
  {
   "cell_type": "markdown",
   "metadata": {},
   "source": [
    "### From Scratch"
   ]
  },
  {
   "cell_type": "code",
   "execution_count": 17,
   "metadata": {},
   "outputs": [],
   "source": [
    "def ratio(v1, v2):\n",
    "    return v2.dot(v1) / v1.dot(v1)"
   ]
  },
  {
   "cell_type": "code",
   "execution_count": 18,
   "metadata": {},
   "outputs": [],
   "source": [
    "def projection(v1, v2):\n",
    "    return ratio(v1, v2) * v1"
   ]
  },
  {
   "cell_type": "code",
   "execution_count": 24,
   "metadata": {},
   "outputs": [],
   "source": [
    "def projected_iteration(A, iter_max=100):\n",
    "    n = len(A)\n",
    "    eigen_vecs = np.ones((n, n))\n",
    "    eigen_vals = np.ones((n, 1))\n",
    "    for l in range(n):\n",
    "        v0 = np.ones(n)\n",
    "        v_lst = []\n",
    "        v_lst.append(v0)\n",
    "        for p in range(iter_max):\n",
    "            sum_prj = 0\n",
    "            for q in range(l):\n",
    "                sum_prj += projection(eigen_vecs[:, q], v_lst[p]) \n",
    "    \n",
    "            u = v_lst[p] - sum_prj\n",
    "            w = A @ u\n",
    "            v_lst.append(w / np.linalg.norm(w))\n",
    "            if (v_lst[p+1] @ v_lst[p]) < 0.0:\n",
    "                sign = -1\n",
    "                v_lst[p+1] = -v_lst[p+1]\n",
    "            else:\n",
    "                sign = 1\n",
    "            if np.linalg.norm(v_lst[p+1] - v_lst[p]) < 1e-6: \n",
    "                print(\"The number of eigenvector{} iteration: {}\".format(l+ 1,  \n",
    "                                                                         p + 1))\n",
    "                break\n",
    "        eigen_vecs[:, l] = -sign * v_lst[-1]\n",
    "        Z = A @ eigen_vecs[:, l]\n",
    "        eigen_vals[l] = sign * np.linalg.norm(Z)\n",
    "    return eigen_vals, eigen_vecs"
   ]
  },
  {
   "cell_type": "code",
   "execution_count": 25,
   "metadata": {},
   "outputs": [
    {
     "name": "stdout",
     "output_type": "stream",
     "text": [
      "The number of eigenvector1 iteration: 18\n",
      "The number of eigenvector2 iteration: 2\n",
      "The eigenvalues:\n",
      " [[1.51311253 1.9386801 ]]\n",
      "The eigenvectors:\n",
      " [[-0.95129636 -0.63681289]\n",
      " [-0.30827785 -0.77101838]]\n"
     ]
    }
   ],
   "source": [
    "eigen_vals, eigen_vecs = projected_iteration(A)\n",
    "print(\"The eigenvalues:\\n {}\".format(eigen_vals.T)) \n",
    "print(\"The eigenvectors:\\n {}\".format(eigen_vecs))"
   ]
  },
  {
   "cell_type": "markdown",
   "metadata": {},
   "source": [
    "### Using `Numpy`"
   ]
  },
  {
   "cell_type": "code",
   "execution_count": 26,
   "metadata": {},
   "outputs": [
    {
     "data": {
      "text/plain": [
       "(array([0.73688827, 1.51311173]), array([[-0.9617462 , -0.95129657],\n",
       "        [ 0.27394205, -0.3082772 ]]))"
      ]
     },
     "execution_count": 26,
     "metadata": {},
     "output_type": "execute_result"
    }
   ],
   "source": [
    "np.linalg.eig(A)"
   ]
  }
 ],
 "metadata": {
  "kernelspec": {
   "display_name": "Python 3",
   "language": "python",
   "name": "python3"
  },
  "language_info": {
   "codemirror_mode": {
    "name": "ipython",
    "version": 3
   },
   "file_extension": ".py",
   "mimetype": "text/x-python",
   "name": "python",
   "nbconvert_exporter": "python",
   "pygments_lexer": "ipython3",
   "version": "3.6.8"
  }
 },
 "nbformat": 4,
 "nbformat_minor": 2
}
