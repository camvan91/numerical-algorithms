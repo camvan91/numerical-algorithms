{
 "cells": [
  {
   "cell_type": "code",
   "execution_count": 2,
   "metadata": {},
   "outputs": [],
   "source": [
    "import numpy as np\n",
    "import scipy.linalg"
   ]
  },
  {
   "cell_type": "code",
   "execution_count": 3,
   "metadata": {},
   "outputs": [
    {
     "data": {
      "text/plain": [
       "array([[ 4, -2,  4],\n",
       "       [-2,  5, -4],\n",
       "       [ 4, -4, 14]])"
      ]
     },
     "execution_count": 3,
     "metadata": {},
     "output_type": "execute_result"
    }
   ],
   "source": [
    "#A = np.array([[1.1, 1.2748], [0.11767, 1.150]])\n",
    "A = np.array([[4, -2, 4], [-2, 5, -4], [4, -4, 14]])\n",
    "A"
   ]
  },
  {
   "cell_type": "markdown",
   "metadata": {},
   "source": [
    "##  Inverse Interaction"
   ]
  },
  {
   "cell_type": "markdown",
   "metadata": {},
   "source": [
    "### From Scratch"
   ]
  },
  {
   "cell_type": "markdown",
   "metadata": {},
   "source": [
    "#### Without  LU"
   ]
  },
  {
   "cell_type": "code",
   "execution_count": 4,
   "metadata": {},
   "outputs": [],
   "source": [
    "def inverse_iteration(A, iter_max=100):\n",
    "    n = len(A)\n",
    "    v = np.ones(n)\n",
    "    v_lst = []\n",
    "    v_lst.append(v)\n",
    "    for i in range(iter_max):\n",
    "        w = np.linalg.inv(A) @ v_lst[i]\n",
    "        v_lst.append(w / np.linalg.norm(w))\n",
    "        if v_lst[i + 1].T @ v_lst[i] < 0.0:\n",
    "            v_lst[i + 1]  = -v_lst[i + 1] \n",
    "        if np.linalg.norm(v_lst[i + 1] - v_lst[i]) < 1e-6: break\n",
    "    return v_lst"
   ]
  },
  {
   "cell_type": "code",
   "execution_count": 5,
   "metadata": {},
   "outputs": [
    {
     "data": {
      "text/plain": [
       "array([ 0.88929319,  0.42932543, -0.15759852])"
      ]
     },
     "execution_count": 5,
     "metadata": {},
     "output_type": "execute_result"
    }
   ],
   "source": [
    "eigenvec_lst = inverse_iteration(A)\n",
    "eigenvec = eigenvec_lst[-1]\n",
    "eigenvec"
   ]
  },
  {
   "cell_type": "code",
   "execution_count": 6,
   "metadata": {},
   "outputs": [
    {
     "data": {
      "text/plain": [
       "2.3255866228682707"
      ]
     },
     "execution_count": 6,
     "metadata": {},
     "output_type": "execute_result"
    }
   ],
   "source": [
    "Z = A @ eigenvec\n",
    "lamb = np.linalg.norm(Z)\n",
    "lamb"
   ]
  },
  {
   "cell_type": "markdown",
   "metadata": {},
   "source": [
    "#### With LU"
   ]
  },
  {
   "cell_type": "code",
   "execution_count": 7,
   "metadata": {},
   "outputs": [],
   "source": [
    "def back_substitution(A, b):\n",
    "    n = len(A)\n",
    "    x = np.zeros(n)\n",
    "    G = np.c_[A, b]\n",
    "    x[n-1] = G[n-1, n] / G[n-1, n-1]\n",
    "    \n",
    "    for k in range(n-1, -1, -1):\n",
    "        x[k] = (G[k, n] - np.dot(G[k, k+1:n], x[k+1:n])) / G[k, k]\n",
    "    return x"
   ]
  },
  {
   "cell_type": "code",
   "execution_count": 15,
   "metadata": {},
   "outputs": [],
   "source": [
    "def inverse_iteration_lu(A, iter_max=100):\n",
    "    n = len(A)\n",
    "    v = np.ones(n) - 2\n",
    "    v_lst = []\n",
    "    v_lst.append(v)\n",
    "    L, U = scipy.linalg.lu(A, permute_l=True)\n",
    "    for i in range(iter_max):\n",
    "        y = np.linalg.solve(L, v_lst[i])\n",
    "        w = back_substitution(U, y)\n",
    "        v_lst.append(w / np.linalg.norm(w))\n",
    "        if v_lst[i + 1].T @ v_lst[i] < 0.0:\n",
    "            v_lst[i + 1]  = -v_lst[i + 1] \n",
    "        if np.linalg.norm(v_lst[i + 1] - v_lst[i]) < 1e-6: \n",
    "            print(\"The number of iteration: {}\".format(i + 1))\n",
    "            break\n",
    "    return v_lst"
   ]
  },
  {
   "cell_type": "code",
   "execution_count": 16,
   "metadata": {},
   "outputs": [
    {
     "name": "stdout",
     "output_type": "stream",
     "text": [
      "The number of iteration: 30\n"
     ]
    }
   ],
   "source": [
    "eigenvec_lst = inverse_iteration_lu(A)"
   ]
  },
  {
   "cell_type": "code",
   "execution_count": 17,
   "metadata": {
    "scrolled": true
   },
   "outputs": [
    {
     "data": {
      "text/plain": [
       "array([-0.88929319, -0.42932543,  0.15759852])"
      ]
     },
     "execution_count": 17,
     "metadata": {},
     "output_type": "execute_result"
    }
   ],
   "source": [
    "eigenvec = eigenvec_lst[-1]\n",
    "eigenvec"
   ]
  },
  {
   "cell_type": "code",
   "execution_count": 18,
   "metadata": {},
   "outputs": [
    {
     "data": {
      "text/plain": [
       "2.3255866228682702"
      ]
     },
     "execution_count": 18,
     "metadata": {},
     "output_type": "execute_result"
    }
   ],
   "source": [
    "Z = A @ eigenvec\n",
    "lamb = np.linalg.norm(Z)\n",
    "lamb"
   ]
  },
  {
   "cell_type": "markdown",
   "metadata": {},
   "source": [
    "### Using `Nympy`"
   ]
  },
  {
   "cell_type": "code",
   "execution_count": 19,
   "metadata": {},
   "outputs": [],
   "source": [
    "eig_vals, eig_vecs = np.linalg.eig(A)\n",
    "eig_vals.min()"
   ]
  },
  {
   "cell_type": "code",
   "execution_count": 14,
   "metadata": {},
   "outputs": [
    {
     "data": {
      "text/plain": [
       "array([-0.8892936 , -0.42932437,  0.15759909])"
      ]
     },
     "execution_count": 14,
     "metadata": {},
     "output_type": "execute_result"
    }
   ],
   "source": [
    "eig_vecs[:, np.argmin(eig_vals)]"
   ]
  }
 ],
 "metadata": {
  "kernelspec": {
   "display_name": "Python 3",
   "language": "python",
   "name": "python3"
  },
  "language_info": {
   "codemirror_mode": {
    "name": "ipython",
    "version": 3
   },
   "file_extension": ".py",
   "mimetype": "text/x-python",
   "name": "python",
   "nbconvert_exporter": "python",
   "pygments_lexer": "ipython3",
   "version": "3.6.8"
  }
 },
 "nbformat": 4,
 "nbformat_minor": 2
}
