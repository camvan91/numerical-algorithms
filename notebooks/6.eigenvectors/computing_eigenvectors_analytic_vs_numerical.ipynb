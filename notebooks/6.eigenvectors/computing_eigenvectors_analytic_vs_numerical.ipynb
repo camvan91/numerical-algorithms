{
 "cells": [
  {
   "cell_type": "code",
   "execution_count": 7,
   "metadata": {},
   "outputs": [],
   "source": [
    "import sympy\n",
    "sympy.init_printing()\n",
    "import numpy as np"
   ]
  },
  {
   "cell_type": "markdown",
   "metadata": {
    "collapsed": true
   },
   "source": [
    "## Computing Eigenvalues and Eigenvetors"
   ]
  },
  {
   "cell_type": "markdown",
   "metadata": {},
   "source": [
    "### Analytical Approach"
   ]
  },
  {
   "cell_type": "code",
   "execution_count": 2,
   "metadata": {
    "scrolled": true
   },
   "outputs": [
    {
     "data": {
      "text/latex": [
       "$$\\left[\\begin{matrix}a & b\\\\b & - a\\end{matrix}\\right]$$"
      ],
      "text/plain": [
       "⎡a  b ⎤\n",
       "⎢     ⎥\n",
       "⎣b  -a⎦"
      ]
     },
     "execution_count": 2,
     "metadata": {},
     "output_type": "execute_result"
    }
   ],
   "source": [
    "a, b = sympy.symbols(\"a, b\")\n",
    "H = sympy.Matrix([[a, b], [b, -a]])\n",
    "H"
   ]
  },
  {
   "cell_type": "code",
   "execution_count": 3,
   "metadata": {},
   "outputs": [
    {
     "data": {
      "image/png": "[encoded data removed]",
      "text/latex": [
       "$$\\left \\{ - \\sqrt{a^{2} + b^{2}} : 1, \\quad \\sqrt{a^{2} + b^{2}} : 1\\right \\}$$"
      ],
      "text/plain": [
       "⎧    _________        _________   ⎫\n",
       "⎨   ╱  2    2        ╱  2    2    ⎬\n",
       "⎩-╲╱  a  + b  : 1, ╲╱  a  + b  : 1⎭"
      ]
     },
     "execution_count": 3,
     "metadata": {},
     "output_type": "execute_result"
    }
   ],
   "source": [
    "H.eigenvals()"
   ]
  },
  {
   "cell_type": "code",
   "execution_count": 4,
   "metadata": {},
   "outputs": [
    {
     "data": {
      "text/latex": [
       "$$\\left [ \\left ( - \\sqrt{a^{2} + b^{2}}, \\quad 1, \\quad \\left [ \\left[\\begin{matrix}- \\frac{b}{a + \\sqrt{a^{2} + b^{2}}}\\\\1\\end{matrix}\\right]\\right ]\\right ), \\quad \\left ( \\sqrt{a^{2} + b^{2}}, \\quad 1, \\quad \\left [ \\left[\\begin{matrix}- \\frac{b}{a - \\sqrt{a^{2} + b^{2}}}\\\\1\\end{matrix}\\right]\\right ]\\right )\\right ]$$"
      ],
      "text/plain": [
       "⎡⎛                  ⎡⎡      -b        ⎤⎤⎞  ⎛                 ⎡⎡      -b       \n",
       "⎢⎜    _________     ⎢⎢────────────────⎥⎥⎟  ⎜   _________     ⎢⎢───────────────\n",
       "⎢⎜   ╱  2    2      ⎢⎢       _________⎥⎥⎟  ⎜  ╱  2    2      ⎢⎢       ________\n",
       "⎢⎜-╲╱  a  + b  , 1, ⎢⎢      ╱  2    2 ⎥⎥⎟, ⎜╲╱  a  + b  , 1, ⎢⎢      ╱  2    2\n",
       "⎢⎜                  ⎢⎢a + ╲╱  a  + b  ⎥⎥⎟  ⎜                 ⎢⎢a - ╲╱  a  + b \n",
       "⎢⎜                  ⎢⎢                ⎥⎥⎟  ⎜                 ⎢⎢               \n",
       "⎣⎝                  ⎣⎣       1        ⎦⎦⎠  ⎝                 ⎣⎣       1       \n",
       "\n",
       " ⎤⎤⎞⎤\n",
       "─⎥⎥⎟⎥\n",
       "_⎥⎥⎟⎥\n",
       " ⎥⎥⎟⎥\n",
       " ⎥⎥⎟⎥\n",
       " ⎥⎥⎟⎥\n",
       " ⎦⎦⎠⎦"
      ]
     },
     "execution_count": 4,
     "metadata": {},
     "output_type": "execute_result"
    }
   ],
   "source": [
    "# Return an eigenvalue, the multiplicity of the eigenvalue, and a list of eigenvectors\n",
    "H.eigenvects()"
   ]
  },
  {
   "cell_type": "code",
   "execution_count": 5,
   "metadata": {},
   "outputs": [],
   "source": [
    "(eva1, _, evec1), (eva2, _, evec2) = H.eigenvects()"
   ]
  },
  {
   "cell_type": "code",
   "execution_count": 6,
   "metadata": {},
   "outputs": [
    {
     "data": {
      "text/latex": [
       "$$\\left[\\begin{matrix}0\\end{matrix}\\right]$$"
      ],
      "text/plain": [
       "[0]"
      ]
     },
     "execution_count": 6,
     "metadata": {},
     "output_type": "execute_result"
    }
   ],
   "source": [
    "sympy.simplify(evec1[0].T * evec2[0])"
   ]
  },
  {
   "cell_type": "markdown",
   "metadata": {},
   "source": [
    "### Numerical Approach"
   ]
  },
  {
   "cell_type": "code",
   "execution_count": 8,
   "metadata": {},
   "outputs": [
    {
     "data": {
      "text/plain": [
       "array([[ 4, -2,  4],\n",
       "       [-2,  5, -4],\n",
       "       [ 4, -4, 14]])"
      ]
     },
     "execution_count": 8,
     "metadata": {},
     "output_type": "execute_result"
    }
   ],
   "source": [
    "#A = np.array([[1.1, 1.2748], [0.11767, 1.150]])\n",
    "A = np.array([[4, -2, 4], [-2, 5, -4], [4, -4, 14]])\n",
    "A"
   ]
  },
  {
   "cell_type": "code",
   "execution_count": 9,
   "metadata": {},
   "outputs": [
    {
     "data": {
      "text/plain": [
       "(array([17.04078643,  2.32558662,  3.63362695]),\n",
       " array([[ 0.32323917, -0.8892936 , -0.32353258],\n",
       "        [-0.34626061, -0.42932437,  0.83413678],\n",
       "        [ 0.88069293,  0.15759909,  0.4467018 ]]))"
      ]
     },
     "execution_count": 9,
     "metadata": {},
     "output_type": "execute_result"
    }
   ],
   "source": [
    "evals, evecs = np.linalg.eig(A)\n",
    "evals, evecs"
   ]
  },
  {
   "cell_type": "code",
   "execution_count": 10,
   "metadata": {
    "scrolled": false
   },
   "outputs": [
    {
     "data": {
      "text/plain": [
       "(array([ 2.32558662,  3.63362695, 17.04078643]),\n",
       " array([[ 0.8892936 , -0.32353258, -0.32323917],\n",
       "        [ 0.42932437,  0.83413678,  0.34626061],\n",
       "        [-0.15759909,  0.4467018 , -0.88069293]]))"
      ]
     },
     "execution_count": 10,
     "metadata": {},
     "output_type": "execute_result"
    }
   ],
   "source": [
    "np.linalg.eigh(A)"
   ]
  }
 ],
 "metadata": {
  "kernelspec": {
   "display_name": "Python 3",
   "language": "python",
   "name": "python3"
  },
  "language_info": {
   "codemirror_mode": {
    "name": "ipython",
    "version": 3
   },
   "file_extension": ".py",
   "mimetype": "text/x-python",
   "name": "python",
   "nbconvert_exporter": "python",
   "pygments_lexer": "ipython3",
   "version": "3.6.8"
  }
 },
 "nbformat": 4,
 "nbformat_minor": 2
}
