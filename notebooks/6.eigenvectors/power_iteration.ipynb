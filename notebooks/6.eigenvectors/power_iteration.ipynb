{
 "cells": [
  {
   "cell_type": "code",
   "execution_count": 12,
   "metadata": {},
   "outputs": [],
   "source": [
    "import matplotlib.pyplot as plt\n",
    "import numpy as np"
   ]
  },
  {
   "cell_type": "code",
   "execution_count": 13,
   "metadata": {},
   "outputs": [
    {
     "data": {
      "text/plain": [
       "array([[1.1    , 1.2748 ],\n",
       "       [0.11767, 1.15   ]])"
      ]
     },
     "execution_count": 13,
     "metadata": {},
     "output_type": "execute_result"
    }
   ],
   "source": [
    "A = np.array([[1.1, 1.2748], [0.11767, 1.150]])\n",
    "#A = np.array([[2, 3], [3, 2]])\n",
    "A"
   ]
  },
  {
   "cell_type": "markdown",
   "metadata": {},
   "source": [
    "##  Normalized Power Interaction"
   ]
  },
  {
   "cell_type": "markdown",
   "metadata": {},
   "source": [
    "### From Scratch"
   ]
  },
  {
   "cell_type": "code",
   "execution_count": 59,
   "metadata": {},
   "outputs": [],
   "source": [
    "def normalized_power_interaction(A, iter_max=100):\n",
    "    n = len(A)\n",
    "    v = np.repeat(-1, n)\n",
    "    v_lst = []\n",
    "    v_lst.append(v)\n",
    "    for i in range(iter_max):\n",
    "        w = A @ v_lst[i]\n",
    "        v_lst.append(w / np.linalg.norm(w))\n",
    "        if (v_lst[i + 1].T @ v_lst[i]) < 0.0:\n",
    "            v_lst[i+1]  = -v_lst[i+1]\n",
    "        if np.linalg.norm(v_lst[i+1] - v_lst[i]) < 1e-6: \n",
    "            print(\"The number of iteration: {}\".format(i + 1))\n",
    "            break\n",
    "    return v_lst"
   ]
  },
  {
   "cell_type": "code",
   "execution_count": 82,
   "metadata": {},
   "outputs": [
    {
     "name": "stdout",
     "output_type": "stream",
     "text": [
      "The number of iteration: 18\n"
     ]
    },
    {
     "data": {
      "text/plain": [
       "array([-0.95129636, -0.30827785])"
      ]
     },
     "execution_count": 82,
     "metadata": {},
     "output_type": "execute_result"
    }
   ],
   "source": [
    "eigenvec_lst = normalized_power_interaction(A)\n",
    "eigenvec = eigenvec_lst[-1]\n",
    "eigenvec"
   ]
  },
  {
   "cell_type": "code",
   "execution_count": 83,
   "metadata": {},
   "outputs": [
    {
     "data": {
      "text/plain": [
       "1.5131125278068127"
      ]
     },
     "execution_count": 83,
     "metadata": {},
     "output_type": "execute_result"
    }
   ],
   "source": [
    "Z = A @ eigenvec\n",
    "lamb = np.linalg.norm(Z)\n",
    "lamb"
   ]
  },
  {
   "cell_type": "code",
   "execution_count": 84,
   "metadata": {},
   "outputs": [
    {
     "data": {
      "image/png": "[encoded data removed]",
      "text/plain": [
       "<Figure size 576x432 with 1 Axes>"
      ]
     },
     "metadata": {
      "needs_background": "light"
     },
     "output_type": "display_data"
    }
   ],
   "source": [
    "eigenvec_lst = np.array(eigenvec_lst)\n",
    "\n",
    "plt.figure(figsize=(8, 6))\n",
    "for e in eigenvec_lst:\n",
    "    plt.arrow(0, 0, e[0], e[1], length_includes_head=True,\n",
    "              head_width=0.08, head_length=0.00002)\n",
    "    plt.annotate(s='', xy=(e[0], e[1]), xytext=(0, 0), \n",
    "                 arrowprops=dict(arrowstyle='->'))\n",
    "plt.xlim(-1, 0.1)\n",
    "plt.ylim(-1, 0.1)\n",
    "plt.show()"
   ]
  },
  {
   "cell_type": "markdown",
   "metadata": {},
   "source": [
    "### Using `Nympy`"
   ]
  },
  {
   "cell_type": "code",
   "execution_count": 18,
   "metadata": {},
   "outputs": [],
   "source": [
    "eig_vals, eig_vecs = np.linalg.eig(A)"
   ]
  },
  {
   "cell_type": "code",
   "execution_count": 19,
   "metadata": {},
   "outputs": [
    {
     "data": {
      "text/plain": [
       "1.5131117313351916"
      ]
     },
     "execution_count": 19,
     "metadata": {},
     "output_type": "execute_result"
    }
   ],
   "source": [
    "eig_vals.max()"
   ]
  },
  {
   "cell_type": "code",
   "execution_count": 20,
   "metadata": {},
   "outputs": [
    {
     "data": {
      "text/plain": [
       "array([-0.95129657, -0.3082772 ])"
      ]
     },
     "execution_count": 20,
     "metadata": {},
     "output_type": "execute_result"
    }
   ],
   "source": [
    "eig_vecs[:, np.argmax(eig_vals)]"
   ]
  }
 ],
 "metadata": {
  "kernelspec": {
   "display_name": "Python 3",
   "language": "python",
   "name": "python3"
  },
  "language_info": {
   "codemirror_mode": {
    "name": "ipython",
    "version": 3
   },
   "file_extension": ".py",
   "mimetype": "text/x-python",
   "name": "python",
   "nbconvert_exporter": "python",
   "pygments_lexer": "ipython3",
   "version": "3.6.8"
  }
 },
 "nbformat": 4,
 "nbformat_minor": 2
}
