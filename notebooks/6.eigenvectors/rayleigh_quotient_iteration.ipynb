{
 "cells": [
  {
   "cell_type": "code",
   "execution_count": 2,
   "metadata": {},
   "outputs": [],
   "source": [
    "import matplotlib.pyplot as plt\n",
    "import numpy as np"
   ]
  },
  {
   "cell_type": "code",
   "execution_count": 3,
   "metadata": {},
   "outputs": [
    {
     "data": {
      "text/plain": [
       "array([[-2,  1,  2],\n",
       "       [ 5,  3, -7],\n",
       "       [ 9, -5,  1]])"
      ]
     },
     "execution_count": 3,
     "metadata": {},
     "output_type": "execute_result"
    }
   ],
   "source": [
    "A = np.array([[1.1, 1.2748], [0.11767, 1.150]])\n",
    "A = np.array([[-2, 1, 2], \n",
    "              [ 5, 3, -7],\n",
    "              [ 9, -5, 1]])\n",
    "A"
   ]
  },
  {
   "cell_type": "markdown",
   "metadata": {},
   "source": [
    "## Rayleigh Quotient Iteration"
   ]
  },
  {
   "cell_type": "markdown",
   "metadata": {},
   "source": [
    "### From Scratch"
   ]
  },
  {
   "cell_type": "code",
   "execution_count": 12,
   "metadata": {},
   "outputs": [],
   "source": [
    "def rayleigh_quotient_iteration(A, sigma, iter_max=100):\n",
    "    n = len(A)\n",
    "    v = np.ones((n, 1)) -2\n",
    "    I = np.identity(n)\n",
    "    v_lst = []\n",
    "    v_lst.append(v)\n",
    "    for i in range(iter_max):\n",
    "        w = np.linalg.inv(A - sigma * I) @ v_lst[i]\n",
    "        v_lst.append(w / np.linalg.norm(w))\n",
    "        sigma = (v_lst[i+1].T @ A @ v_lst[i+1]) / np.linalg.norm(v_lst[i+1])**2\n",
    "        if np.linalg.norm(v_lst[i+1] - v_lst[i]) < 1e-6:\n",
    "            print(\"The number of iteration: {}\".format(i + 1))\n",
    "            break\n",
    "    return v_lst"
   ]
  },
  {
   "cell_type": "code",
   "execution_count": 13,
   "metadata": {},
   "outputs": [
    {
     "name": "stdout",
     "output_type": "stream",
     "text": [
      "The number of iteration: 5\n"
     ]
    },
    {
     "data": {
      "text/plain": [
       "array([[-0.45694634],\n",
       "       [-0.75708239],\n",
       "       [-0.46693287]])"
      ]
     },
     "execution_count": 13,
     "metadata": {},
     "output_type": "execute_result"
    }
   ],
   "source": [
    "eigen_vecs = rayleigh_quotient_iteration(A, 0)\n",
    "eigen_vec = eigen_vecs[-1]\n",
    "eigen_vec"
   ]
  },
  {
   "cell_type": "code",
   "execution_count": 14,
   "metadata": {},
   "outputs": [
    {
     "data": {
      "text/plain": [
       "1.7005398479242304"
      ]
     },
     "execution_count": 14,
     "metadata": {},
     "output_type": "execute_result"
    }
   ],
   "source": [
    "Z = A @ eigen_vec\n",
    "np.linalg.norm(Z)"
   ]
  },
  {
   "cell_type": "code",
   "execution_count": 15,
   "metadata": {},
   "outputs": [
    {
     "name": "stdout",
     "output_type": "stream",
     "text": [
      "The number of iteration: 5\n"
     ]
    },
    {
     "data": {
      "text/plain": [
       "array([[-0.45694634],\n",
       "       [-0.75708239],\n",
       "       [-0.46693287]])"
      ]
     },
     "execution_count": 15,
     "metadata": {},
     "output_type": "execute_result"
    }
   ],
   "source": [
    "eigen_vecs = rayleigh_quotient_iteration(A, 5)\n",
    "eigen_vec = eigen_vecs[-1]\n",
    "eigen_vec"
   ]
  },
  {
   "cell_type": "code",
   "execution_count": 16,
   "metadata": {},
   "outputs": [
    {
     "data": {
      "text/plain": [
       "1.7005398479242304"
      ]
     },
     "execution_count": 16,
     "metadata": {},
     "output_type": "execute_result"
    }
   ],
   "source": [
    "Z = A @ eigen_vec\n",
    "np.linalg.norm(Z)"
   ]
  },
  {
   "cell_type": "markdown",
   "metadata": {},
   "source": [
    "### Using `Numpy`"
   ]
  },
  {
   "cell_type": "code",
   "execution_count": 17,
   "metadata": {},
   "outputs": [],
   "source": [
    "eigen_vals, eigen_vecs = np.linalg.eig(A)"
   ]
  },
  {
   "cell_type": "code",
   "execution_count": 18,
   "metadata": {},
   "outputs": [
    {
     "data": {
      "text/plain": [
       "array([-7.82094512,  1.70053985,  8.12040527])"
      ]
     },
     "execution_count": 18,
     "metadata": {},
     "output_type": "execute_result"
    }
   ],
   "source": [
    "eigen_vals"
   ]
  },
  {
   "cell_type": "code",
   "execution_count": 19,
   "metadata": {},
   "outputs": [
    {
     "data": {
      "text/plain": [
       "array([[ 0.34840643, -0.45694634,  0.04217561],\n",
       "       [-0.61729331, -0.75708239, -0.79180302],\n",
       "       [-0.7053807 , -0.46693287,  0.60931863]])"
      ]
     },
     "execution_count": 19,
     "metadata": {},
     "output_type": "execute_result"
    }
   ],
   "source": [
    "eigen_vecs"
   ]
  }
 ],
 "metadata": {
  "kernelspec": {
   "display_name": "Python 3",
   "language": "python",
   "name": "python3"
  },
  "language_info": {
   "codemirror_mode": {
    "name": "ipython",
    "version": 3
   },
   "file_extension": ".py",
   "mimetype": "text/x-python",
   "name": "python",
   "nbconvert_exporter": "python",
   "pygments_lexer": "ipython3",
   "version": "3.6.8"
  }
 },
 "nbformat": 4,
 "nbformat_minor": 2
}
